{
 "cells": [
  {
   "cell_type": "code",
   "execution_count": 1,
   "id": "aec37b60-1b13-4111-b367-64dbc6f1421b",
   "metadata": {},
   "outputs": [],
   "source": [
    "import pandas as pd\n",
    "import openai\n",
    "import os,sys"
   ]
  },
  {
   "cell_type": "code",
   "execution_count": 2,
   "id": "517bc24d-99db-4eef-99f8-4e4bf5467d5d",
   "metadata": {},
   "outputs": [],
   "source": [
    "from openai import OpenAI"
   ]
  },
  {
   "cell_type": "code",
   "execution_count": 5,
   "id": "05b27ada-abf8-4805-82d9-026813787943",
   "metadata": {},
   "outputs": [],
   "source": [
    "# os.environ\n",
    "api_key = os.getenv('OPENAI_API_KEY')"
   ]
  },
  {
   "cell_type": "code",
   "execution_count": 9,
   "id": "51503b31-2ded-4ff7-bb70-7f8a5b31dfb2",
   "metadata": {},
   "outputs": [],
   "source": [
    "client = OpenAI(api_key = api_key)\n",
    "\n",
    "response = client.chat.completions.create(\n",
    "    model = 'gpt-3.5-turbo-16k',\n",
    "    messages = [{\"role\": \"user\",\n",
    "                \"content\":\"is it too late to join the course?\"}]\n",
    ")"
   ]
  },
  {
   "cell_type": "code",
   "execution_count": 11,
   "id": "442137e8-e24d-4408-aa3a-e073c656b42e",
   "metadata": {},
   "outputs": [
    {
     "data": {
      "text/plain": [
       "\"I'm sorry, but as an AI language model, I do not have specific information about courses or their enrollment deadlines. It's best to reach out directly to the course provider or instructor to inquire about their enrollment policy and whether it is too late to join.\""
      ]
     },
     "execution_count": 11,
     "metadata": {},
     "output_type": "execute_result"
    }
   ],
   "source": [
    "response.choices[0].message.content"
   ]
  },
  {
   "cell_type": "code",
   "execution_count": null,
   "id": "57e52a67-1037-428d-aa8f-b7f995fe66e6",
   "metadata": {},
   "outputs": [],
   "source": []
  }
 ],
 "metadata": {
  "kernelspec": {
   "display_name": "Python 3 (ipykernel)",
   "language": "python",
   "name": "python3"
  },
  "language_info": {
   "codemirror_mode": {
    "name": "ipython",
    "version": 3
   },
   "file_extension": ".py",
   "mimetype": "text/x-python",
   "name": "python",
   "nbconvert_exporter": "python",
   "pygments_lexer": "ipython3",
   "version": "3.10.14"
  }
 },
 "nbformat": 4,
 "nbformat_minor": 5
}
