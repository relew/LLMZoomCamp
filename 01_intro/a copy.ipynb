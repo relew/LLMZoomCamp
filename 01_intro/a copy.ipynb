{
 "cells": [
  {
   "cell_type": "code",
   "execution_count": 1,
   "id": "aec37b60-1b13-4111-b367-64dbc6f1421b",
   "metadata": {},
   "outputs": [],
   "source": [
    "import pandas as pd\n",
    "import openai"
   ]
  },
  {
   "cell_type": "code",
   "execution_count": 2,
   "id": "517bc24d-99db-4eef-99f8-4e4bf5467d5d",
   "metadata": {},
   "outputs": [],
   "source": [
    "from openai import OpenAI"
   ]
  },
  {
   "cell_type": "code",
   "execution_count": 3,
   "id": "a5cab598-6844-495c-a38c-d817fde8dca7",
   "metadata": {},
   "outputs": [],
   "source": [
    "client = OpenAI(api_key = '')"
   ]
  },
  {
   "cell_type": "code",
   "execution_count": 6,
   "id": "ed9e06d4-d60a-4aea-b831-05122579da4f",
   "metadata": {},
   "outputs": [],
   "source": [
    "import os,sys"
   ]
  },
  {
   "cell_type": "code",
   "execution_count": null,
   "id": "51503b31-2ded-4ff7-bb70-7f8a5b31dfb2",
   "metadata": {},
   "outputs": [],
   "source": [
    "# # os.environ\n",
    "# response = client.chat.completions.create(\n",
    "#     model = 'gpt-3.5-turbo-16k',\n",
    "#     messages = [{\"role\": \"user\",\n",
    "#                 \"content\":\"is it too late to join the course?\"}]\n",
    "# )"
   ]
  },
  {
   "cell_type": "code",
   "execution_count": null,
   "id": "442137e8-e24d-4408-aa3a-e073c656b42e",
   "metadata": {},
   "outputs": [],
   "source": [
    "response"
   ]
  }
 ],
 "metadata": {
  "kernelspec": {
   "display_name": "Python 3 (ipykernel)",
   "language": "python",
   "name": "python3"
  },
  "language_info": {
   "codemirror_mode": {
    "name": "ipython",
    "version": 3
   },
   "file_extension": ".py",
   "mimetype": "text/x-python",
   "name": "python",
   "nbconvert_exporter": "python",
   "pygments_lexer": "ipython3",
   "version": "3.10.14"
  }
 },
 "nbformat": 4,
 "nbformat_minor": 5
}
