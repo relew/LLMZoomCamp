{
 "cells": [
  {
   "cell_type": "markdown",
   "metadata": {},
   "source": [
    "#### Architecture - Semantic Search using Elastic Search"
   ]
  },
  {
   "attachments": {
    "image.png": {
     "image/png": "[encoded data removed]"
    }
   },
   "cell_type": "markdown",
   "metadata": {},
   "source": [
    "\n",
    "![image.png](attachment:image.png)"
   ]
  },
  {
   "cell_type": "markdown",
   "metadata": {},
   "source": [
    "* Two very important concepts in Elasticsearch are documents and indexes.\n",
    "\n",
    "* A document is collection of fields with their associated values. \n",
    "\n",
    "* To work with Elasticsearch you have to organize your data into documents, and then add all your documents to an index. \n",
    "\n",
    "* Index as a collection of documents that is stored in a highly optimized format designed to perform efficient searches."
   ]
  },
  {
   "cell_type": "markdown",
   "metadata": {},
   "source": [
    "#### Step 1: Prepare documents"
   ]
  },
  {
   "cell_type": "code",
   "execution_count": 1,
   "metadata": {},
   "outputs": [],
   "source": [
    "import json\n",
    "\n",
    "with open('documents.json', 'rt') as f_in:\n",
    "    docs_raw = json.load(f_in)"
   ]
  },
  {
   "cell_type": "code",
   "execution_count": 2,
   "metadata": {},
   "outputs": [
    {
     "data": {
      "text/plain": [
       "{'text': 'GitHub - DataTalksClub data-engineering-zoomcamp#prerequisites',\n",
       " 'section': 'General course-related questions',\n",
       " 'question': 'Course - What are the prerequisites for this course?',\n",
       " 'course': 'data-engineering-zoomcamp'}"
      ]
     },
     "execution_count": 2,
     "metadata": {},
     "output_type": "execute_result"
    }
   ],
   "source": [
    "documents = []\n",
    "\n",
    "for course_dict in docs_raw:\n",
    "    for doc in course_dict['documents']:\n",
    "        doc['course'] = course_dict['course']\n",
    "        documents.append(doc)\n",
    "\n",
    "documents[1]"
   ]
  },
  {
   "cell_type": "markdown",
   "metadata": {},
   "source": [
    "#### Step 2: Create Embeddings using Pretrained Models"
   ]
  },
  {
   "cell_type": "markdown",
   "metadata": {},
   "source": [
    "Sentence Transformers documentation here: https://www.sbert.net/docs/sentence_transformer/pretrained_models.html"
   ]
  },
  {
   "cell_type": "code",
   "execution_count": 5,
   "metadata": {},
   "outputs": [
    {
     "data": {
      "application/vnd.jupyter.widget-view+json": {
       "model_id": "1d65718a1dad407fb919be258286fe9d",
       "version_major": 2,
       "version_minor": 0
      },
      "text/plain": [
       "modules.json:   0%|          | 0.00/349 [00:00<?, ?B/s]"
      ]
     },
     "metadata": {},
     "output_type": "display_data"
    },
    {
     "data": {
      "application/vnd.jupyter.widget-view+json": {
       "model_id": "80b3487388ef45a4865e43045b3b934b",
       "version_major": 2,
       "version_minor": 0
      },
      "text/plain": [
       "config_sentence_transformers.json:   0%|          | 0.00/116 [00:00<?, ?B/s]"
      ]
     },
     "metadata": {},
     "output_type": "display_data"
    },
    {
     "data": {
      "application/vnd.jupyter.widget-view+json": {
       "model_id": "8f8fed47628b48c883fa7af9a1ea9e36",
       "version_major": 2,
       "version_minor": 0
      },
      "text/plain": [
       "README.md:   0%|          | 0.00/10.6k [00:00<?, ?B/s]"
      ]
     },
     "metadata": {},
     "output_type": "display_data"
    },
    {
     "data": {
      "application/vnd.jupyter.widget-view+json": {
       "model_id": "f671d790017f4de9830da8c0109d57af",
       "version_major": 2,
       "version_minor": 0
      },
      "text/plain": [
       "sentence_bert_config.json:   0%|          | 0.00/53.0 [00:00<?, ?B/s]"
      ]
     },
     "metadata": {},
     "output_type": "display_data"
    },
    {
     "data": {
      "application/vnd.jupyter.widget-view+json": {
       "model_id": "311b6c6b1ec04c07b1b96c49e39ea4c6",
       "version_major": 2,
       "version_minor": 0
      },
      "text/plain": [
       "config.json:   0%|          | 0.00/571 [00:00<?, ?B/s]"
      ]
     },
     "metadata": {},
     "output_type": "display_data"
    },
    {
     "data": {
      "application/vnd.jupyter.widget-view+json": {
       "model_id": "d8a967ee27d04264b0cbd27ace87fa08",
       "version_major": 2,
       "version_minor": 0
      },
      "text/plain": [
       "model.safetensors:   0%|          | 0.00/438M [00:00<?, ?B/s]"
      ]
     },
     "metadata": {},
     "output_type": "display_data"
    },
    {
     "data": {
      "application/vnd.jupyter.widget-view+json": {
       "model_id": "e189ea9c2149436b81c1e51504047bae",
       "version_major": 2,
       "version_minor": 0
      },
      "text/plain": [
       "tokenizer_config.json:   0%|          | 0.00/363 [00:00<?, ?B/s]"
      ]
     },
     "metadata": {},
     "output_type": "display_data"
    },
    {
     "data": {
      "application/vnd.jupyter.widget-view+json": {
       "model_id": "0805f0e3bd2047b6a6e6332c23fc41b0",
       "version_major": 2,
       "version_minor": 0
      },
      "text/plain": [
       "vocab.txt:   0%|          | 0.00/232k [00:00<?, ?B/s]"
      ]
     },
     "metadata": {},
     "output_type": "display_data"
    },
    {
     "data": {
      "application/vnd.jupyter.widget-view+json": {
       "model_id": "42763223c73d42718cb95a4a7b118342",
       "version_major": 2,
       "version_minor": 0
      },
      "text/plain": [
       "tokenizer.json:   0%|          | 0.00/466k [00:00<?, ?B/s]"
      ]
     },
     "metadata": {},
     "output_type": "display_data"
    },
    {
     "data": {
      "application/vnd.jupyter.widget-view+json": {
       "model_id": "fda0cdd5038e426891e1184c66daa8f7",
       "version_major": 2,
       "version_minor": 0
      },
      "text/plain": [
       "special_tokens_map.json:   0%|          | 0.00/239 [00:00<?, ?B/s]"
      ]
     },
     "metadata": {},
     "output_type": "display_data"
    },
    {
     "data": {
      "application/vnd.jupyter.widget-view+json": {
       "model_id": "92b7b79b6e5f4534bc5d9d54d1638d97",
       "version_major": 2,
       "version_minor": 0
      },
      "text/plain": [
       "1_Pooling/config.json:   0%|          | 0.00/190 [00:00<?, ?B/s]"
      ]
     },
     "metadata": {},
     "output_type": "display_data"
    },
    {
     "name": "stderr",
     "output_type": "stream",
     "text": [
      "/home/rollylevente/miniconda3/lib/python3.11/site-packages/torch/cuda/__init__.py:118: UserWarning: CUDA initialization: The NVIDIA driver on your system is too old (found version 11060). Please update your GPU driver by downloading and installing a new version from the URL: http://www.nvidia.com/Download/index.aspx Alternatively, go to: https://pytorch.org to install a PyTorch version that has been compiled with your version of the CUDA driver. (Triggered internally at ../c10/cuda/CUDAFunctions.cpp:108.)\n",
      "  return torch._C._cuda_getDeviceCount() > 0\n"
     ]
    }
   ],
   "source": [
    "# This is a new library compared to the previous modules. \n",
    "# Please perform \"pip install sentence_transformers==2.7.0\"\n",
    "from sentence_transformers import SentenceTransformer\n",
    "\n",
    "# if you get an error do the following:\n",
    "# 1. Uninstall numpy \n",
    "# 2. Uninstall torch\n",
    "# 3. pip install numpy==1.26.4\n",
    "# 4. pip install torch\n",
    "# run the above cell, it should work\n",
    "model = SentenceTransformer(\"all-mpnet-base-v2\")"
   ]
  },
  {
   "cell_type": "code",
   "execution_count": 6,
   "metadata": {},
   "outputs": [
    {
     "data": {
      "text/plain": [
       "768"
      ]
     },
     "execution_count": 6,
     "metadata": {},
     "output_type": "execute_result"
    }
   ],
   "source": [
    "len(model.encode(\"This is a simple sentence\"))"
   ]
  },
  {
   "cell_type": "code",
   "execution_count": 7,
   "metadata": {},
   "outputs": [
    {
     "data": {
      "text/plain": [
       "{'text': 'GitHub - DataTalksClub data-engineering-zoomcamp#prerequisites',\n",
       " 'section': 'General course-related questions',\n",
       " 'question': 'Course - What are the prerequisites for this course?',\n",
       " 'course': 'data-engineering-zoomcamp'}"
      ]
     },
     "execution_count": 7,
     "metadata": {},
     "output_type": "execute_result"
    }
   ],
   "source": [
    "documents[1]"
   ]
  },
  {
   "cell_type": "code",
   "execution_count": 8,
   "metadata": {},
   "outputs": [
    {
     "data": {
      "text/plain": [
       "{'text': 'GitHub - DataTalksClub data-engineering-zoomcamp#prerequisites',\n",
       " 'section': 'General course-related questions',\n",
       " 'question': 'Course - What are the prerequisites for this course?',\n",
       " 'course': 'data-engineering-zoomcamp',\n",
       " 'text_vector': [-0.04103041812777519,\n",
       "  0.025834158062934875,\n",
       "  -0.03680184856057167,\n",
       "  -0.020898327231407166,\n",
       "  -0.020596275106072426,\n",
       "  0.009353749454021454,\n",
       "  -0.0033317022025585175,\n",
       "  -0.009491887874901295,\n",
       "  0.030117960646748543,\n",
       "  0.01908211223781109,\n",
       "  0.012690017931163311,\n",
       "  -0.01707877218723297,\n",
       "  -0.0016324581811204553,\n",
       "  0.12997248768806458,\n",
       "  0.03096918575465679,\n",
       "  -0.025823727250099182,\n",
       "  0.02782304398715496,\n",
       "  0.02515977807343006,\n",
       "  -0.0808122381567955,\n",
       "  -0.003617348847910762,\n",
       "  -0.008902021683752537,\n",
       "  0.003404838964343071,\n",
       "  -0.023009272292256355,\n",
       "  -0.034045297652482986,\n",
       "  0.02459859289228916,\n",
       "  0.013545563444495201,\n",
       "  -0.025439007207751274,\n",
       "  0.011951071210205555,\n",
       "  -0.020540110766887665,\n",
       "  -0.010077393613755703,\n",
       "  0.020575352013111115,\n",
       "  0.04388982430100441,\n",
       "  0.014394652098417282,\n",
       "  0.018271788954734802,\n",
       "  1.7162574295070954e-06,\n",
       "  -0.019292492419481277,\n",
       "  -0.015790246427059174,\n",
       "  0.0088304802775383,\n",
       "  0.041408736258745193,\n",
       "  0.017854556441307068,\n",
       "  0.0232322346419096,\n",
       "  0.015890125185251236,\n",
       "  0.033036526292562485,\n",
       "  -0.0062487125396728516,\n",
       "  -0.024313637986779213,\n",
       "  -0.005077960900962353,\n",
       "  -0.022970762103796005,\n",
       "  0.04386941343545914,\n",
       "  0.05361015349626541,\n",
       "  0.019139541313052177,\n",
       "  0.028006872162222862,\n",
       "  -0.009300663135945797,\n",
       "  0.06724217534065247,\n",
       "  -0.030362673103809357,\n",
       "  0.062360893934965134,\n",
       "  0.05657072737812996,\n",
       "  0.013348646461963654,\n",
       "  0.09636978060007095,\n",
       "  0.057807981967926025,\n",
       "  0.01594369113445282,\n",
       "  0.022681113332509995,\n",
       "  0.012260837480425835,\n",
       "  -0.015339665114879608,\n",
       "  0.0408482551574707,\n",
       "  0.07099863886833191,\n",
       "  0.0044791861437261105,\n",
       "  0.021460281684994698,\n",
       "  -0.09623973071575165,\n",
       "  0.010496063157916069,\n",
       "  0.01832815818488598,\n",
       "  0.060595203191041946,\n",
       "  -0.0022177838254719973,\n",
       "  -0.003117700107395649,\n",
       "  0.03340359032154083,\n",
       "  -0.00683863228186965,\n",
       "  0.03646325692534447,\n",
       "  -0.020524287596344948,\n",
       "  -0.017529752105474472,\n",
       "  0.03704282268881798,\n",
       "  0.0150715671479702,\n",
       "  -0.1251135915517807,\n",
       "  -0.06194508448243141,\n",
       "  -0.06227662041783333,\n",
       "  -0.0002937415847554803,\n",
       "  0.037272341549396515,\n",
       "  0.037468258291482925,\n",
       "  0.0071688140742480755,\n",
       "  0.009751430712640285,\n",
       "  -0.017304377630352974,\n",
       "  -0.050806425511837006,\n",
       "  0.03614513576030731,\n",
       "  -0.004910714458674192,\n",
       "  -0.015009126625955105,\n",
       "  0.033964499831199646,\n",
       "  -0.008211464621126652,\n",
       "  -0.06480514258146286,\n",
       "  0.027568619698286057,\n",
       "  0.06699180603027344,\n",
       "  0.040786419063806534,\n",
       "  -0.02668004110455513,\n",
       "  -0.053004615008831024,\n",
       "  -0.013385794125497341,\n",
       "  0.019544567912817,\n",
       "  0.022521888837218285,\n",
       "  0.016393909230828285,\n",
       "  -0.014412404038012028,\n",
       "  0.045927658677101135,\n",
       "  -0.01620974950492382,\n",
       "  0.052783478051424026,\n",
       "  0.007656761910766363,\n",
       "  0.014720858074724674,\n",
       "  0.04804934188723564,\n",
       "  -0.05068933591246605,\n",
       "  -0.0007962486706674099,\n",
       "  -0.05144878476858139,\n",
       "  0.01530308648943901,\n",
       "  0.018605904653668404,\n",
       "  -0.013087023049592972,\n",
       "  0.00362519733607769,\n",
       "  0.02323332242667675,\n",
       "  0.026989510282874107,\n",
       "  -0.0026404636446386576,\n",
       "  -0.005428341217339039,\n",
       "  -0.013441145420074463,\n",
       "  -0.06094832345843315,\n",
       "  -0.06909386813640594,\n",
       "  -0.023957179859280586,\n",
       "  0.031023064628243446,\n",
       "  -0.011164538562297821,\n",
       "  -0.06756599247455597,\n",
       "  -0.038980428129434586,\n",
       "  0.03966604173183441,\n",
       "  -0.01840153895318508,\n",
       "  0.0025557854678481817,\n",
       "  0.03211711719632149,\n",
       "  0.02167390286922455,\n",
       "  0.0012931881938129663,\n",
       "  -0.008383392356336117,\n",
       "  -0.09218039363622665,\n",
       "  0.01770869269967079,\n",
       "  0.045483652502298355,\n",
       "  0.005413326900452375,\n",
       "  -0.08814018964767456,\n",
       "  -0.03536110743880272,\n",
       "  0.008860878646373749,\n",
       "  -0.015596402809023857,\n",
       "  -0.013992343097925186,\n",
       "  0.018702376633882523,\n",
       "  -0.0011076569790020585,\n",
       "  0.03058060072362423,\n",
       "  -0.06051914766430855,\n",
       "  0.025535324588418007,\n",
       "  -0.058422792702913284,\n",
       "  0.00683509511873126,\n",
       "  0.043372202664613724,\n",
       "  0.028011400252580643,\n",
       "  0.024328751489520073,\n",
       "  0.04587302729487419,\n",
       "  -0.024166014045476913,\n",
       "  0.024826981127262115,\n",
       "  -0.012097623199224472,\n",
       "  -0.04970555007457733,\n",
       "  0.07909709960222244,\n",
       "  -0.0022153814788907766,\n",
       "  0.008518206886947155,\n",
       "  0.016419487074017525,\n",
       "  -0.034074559807777405,\n",
       "  0.03663526847958565,\n",
       "  0.0006471146480180323,\n",
       "  -0.03853277862071991,\n",
       "  -0.05148617923259735,\n",
       "  0.0074485959485173225,\n",
       "  -0.030534012243151665,\n",
       "  0.0956716239452362,\n",
       "  -0.0034234286285936832,\n",
       "  0.07276192307472229,\n",
       "  0.03986949846148491,\n",
       "  -0.07582211494445801,\n",
       "  -0.03305302932858467,\n",
       "  0.014661666937172413,\n",
       "  -0.01111272256821394,\n",
       "  -0.15500429272651672,\n",
       "  0.011996060609817505,\n",
       "  -0.012732191011309624,\n",
       "  0.07026628404855728,\n",
       "  -0.020449133589863777,\n",
       "  -0.03656143322587013,\n",
       "  0.06779330968856812,\n",
       "  -0.01265298668295145,\n",
       "  0.002750112907961011,\n",
       "  0.014333674684166908,\n",
       "  0.0012404124718159437,\n",
       "  -0.009064010344445705,\n",
       "  -0.005721319001168013,\n",
       "  0.022710971534252167,\n",
       "  -0.007707894779741764,\n",
       "  0.04975365102291107,\n",
       "  -0.004638074431568384,\n",
       "  0.043310973793268204,\n",
       "  -0.046876564621925354,\n",
       "  -0.01905199885368347,\n",
       "  0.04139621555805206,\n",
       "  -0.04018102213740349,\n",
       "  -0.025234999135136604,\n",
       "  0.01685994118452072,\n",
       "  -0.009618421085178852,\n",
       "  -0.02835969813168049,\n",
       "  -0.04803065210580826,\n",
       "  0.013074111193418503,\n",
       "  -0.02127046138048172,\n",
       "  0.04651355370879173,\n",
       "  0.00945972092449665,\n",
       "  -0.016603361815214157,\n",
       "  -0.021229756996035576,\n",
       "  -0.012389987707138062,\n",
       "  -0.01752310059964657,\n",
       "  -0.004980544093996286,\n",
       "  -0.06288380920886993,\n",
       "  0.04760240390896797,\n",
       "  -0.03186303377151489,\n",
       "  -0.010472092777490616,\n",
       "  -0.035647399723529816,\n",
       "  -0.024329349398612976,\n",
       "  0.010853370651602745,\n",
       "  0.011347108520567417,\n",
       "  0.046115629374980927,\n",
       "  -0.007332594133913517,\n",
       "  -0.03827355429530144,\n",
       "  0.06203828379511833,\n",
       "  0.028289534151554108,\n",
       "  -0.010737349279224873,\n",
       "  -0.04571795463562012,\n",
       "  -0.006205923855304718,\n",
       "  0.06727750599384308,\n",
       "  0.007116484455764294,\n",
       "  -0.04450927674770355,\n",
       "  0.05707796663045883,\n",
       "  0.006833943538367748,\n",
       "  0.022145269438624382,\n",
       "  -0.06643117964267731,\n",
       "  -0.0046273041516542435,\n",
       "  0.0066496385261416435,\n",
       "  -0.03896482661366463,\n",
       "  0.027938535436987877,\n",
       "  0.03276734799146652,\n",
       "  -0.0269392691552639,\n",
       "  -0.005870277062058449,\n",
       "  0.008682910352945328,\n",
       "  0.04123929888010025,\n",
       "  -0.03768565133213997,\n",
       "  0.08108926564455032,\n",
       "  0.012370497919619083,\n",
       "  -0.011515368707478046,\n",
       "  0.019230300560593605,\n",
       "  0.03624112531542778,\n",
       "  -0.05857851356267929,\n",
       "  0.028302527964115143,\n",
       "  0.011782198213040829,\n",
       "  -0.007880257442593575,\n",
       "  0.010150463320314884,\n",
       "  0.036521222442388535,\n",
       "  -0.037233222275972366,\n",
       "  -0.008646095171570778,\n",
       "  -0.04253282770514488,\n",
       "  -0.0071568978019058704,\n",
       "  -0.02688773348927498,\n",
       "  0.0458357073366642,\n",
       "  -0.010011757723987103,\n",
       "  -0.019512126222252846,\n",
       "  0.01380076166242361,\n",
       "  -0.042969875037670135,\n",
       "  0.03572658821940422,\n",
       "  0.030201081186532974,\n",
       "  -0.02109380066394806,\n",
       "  0.006059378385543823,\n",
       "  0.020763380452990532,\n",
       "  0.0243877824395895,\n",
       "  -0.024361127987504005,\n",
       "  -0.09251681715250015,\n",
       "  0.0018384162103757262,\n",
       "  -0.048707593232393265,\n",
       "  -0.006456136237829924,\n",
       "  0.01376984640955925,\n",
       "  -0.01041192002594471,\n",
       "  -0.028244931250810623,\n",
       "  -0.030841801315546036,\n",
       "  0.04363320767879486,\n",
       "  -0.060793932527303696,\n",
       "  -0.0005537276738323271,\n",
       "  -0.02784525416791439,\n",
       "  -0.03045899234712124,\n",
       "  0.035396501421928406,\n",
       "  0.019089912995696068,\n",
       "  -0.02140556275844574,\n",
       "  -0.03643852099776268,\n",
       "  0.015365799888968468,\n",
       "  0.06279385834932327,\n",
       "  -0.024606913328170776,\n",
       "  -0.0011045042192563415,\n",
       "  0.03360501304268837,\n",
       "  -0.008335171267390251,\n",
       "  -0.030265886336565018,\n",
       "  -0.04230943322181702,\n",
       "  0.01916610635817051,\n",
       "  -0.021844828501343727,\n",
       "  0.04478326067328453,\n",
       "  -0.011250138282775879,\n",
       "  -0.021959412842988968,\n",
       "  0.025521662086248398,\n",
       "  -0.02983560971915722,\n",
       "  0.003983226139098406,\n",
       "  -0.00276514352299273,\n",
       "  0.01263797003775835,\n",
       "  -0.05046083405613899,\n",
       "  -0.012349613010883331,\n",
       "  0.000651041918899864,\n",
       "  0.0644318163394928,\n",
       "  0.049128055572509766,\n",
       "  -0.018836580216884613,\n",
       "  0.03740523383021355,\n",
       "  -0.017287645488977432,\n",
       "  -0.036317311227321625,\n",
       "  -0.0010857396991923451,\n",
       "  -0.09121441096067429,\n",
       "  -0.04121629521250725,\n",
       "  0.0010024628136307001,\n",
       "  -0.07969777286052704,\n",
       "  -0.015408772975206375,\n",
       "  -0.020164361223578453,\n",
       "  0.014091478660702705,\n",
       "  -0.007197260390967131,\n",
       "  -0.01058966014534235,\n",
       "  -0.022963272407650948,\n",
       "  0.03443758562207222,\n",
       "  0.010561298578977585,\n",
       "  -0.03385694697499275,\n",
       "  -0.030639931559562683,\n",
       "  -0.05634962394833565,\n",
       "  0.059684719890356064,\n",
       "  -0.025421490892767906,\n",
       "  -0.03083357959985733,\n",
       "  0.03945623338222504,\n",
       "  0.007438465021550655,\n",
       "  0.08812785893678665,\n",
       "  0.013284404762089252,\n",
       "  -0.019608458504080772,\n",
       "  0.056954581290483475,\n",
       "  -0.01019138004630804,\n",
       "  -0.025235194712877274,\n",
       "  0.02286764606833458,\n",
       "  0.04357096180319786,\n",
       "  0.04809967428445816,\n",
       "  -0.002153731184080243,\n",
       "  -0.00867243018001318,\n",
       "  0.010262841358780861,\n",
       "  -0.04133868217468262,\n",
       "  0.012713167816400528,\n",
       "  0.015007861889898777,\n",
       "  -0.03227473795413971,\n",
       "  -0.00682027218863368,\n",
       "  -0.05333923175930977,\n",
       "  -0.006375303026288748,\n",
       "  0.026619279757142067,\n",
       "  -0.059103164821863174,\n",
       "  -0.0440487265586853,\n",
       "  0.04417192190885544,\n",
       "  0.05431448295712471,\n",
       "  -0.02461123652756214,\n",
       "  0.032145801931619644,\n",
       "  -0.0030237534083426,\n",
       "  0.03116389364004135,\n",
       "  0.027131669223308563,\n",
       "  0.018679844215512276,\n",
       "  0.023925211280584335,\n",
       "  0.032761313021183014,\n",
       "  -0.05412326380610466,\n",
       "  -0.025751184672117233,\n",
       "  0.0015433802036568522,\n",
       "  0.04098091274499893,\n",
       "  0.015942182391881943,\n",
       "  0.0011701112380251288,\n",
       "  -0.06406854093074799,\n",
       "  0.0032006220426410437,\n",
       "  0.03575596958398819,\n",
       "  0.04841124266386032,\n",
       "  0.011901049874722958,\n",
       "  -0.0053046103566884995,\n",
       "  -0.01827746257185936,\n",
       "  -0.0198629479855299,\n",
       "  0.040734581649303436,\n",
       "  0.0026437777560204268,\n",
       "  0.006830318830907345,\n",
       "  -0.09631135314702988,\n",
       "  -0.07141153514385223,\n",
       "  0.012959673069417477,\n",
       "  -0.03723284602165222,\n",
       "  -0.02266252413392067,\n",
       "  0.03170274943113327,\n",
       "  0.0061690835282206535,\n",
       "  0.0022681732662022114,\n",
       "  -0.0112583814188838,\n",
       "  -0.009036572650074959,\n",
       "  -0.010850372724235058,\n",
       "  0.03249379247426987,\n",
       "  -0.00908516813069582,\n",
       "  0.06332524865865707,\n",
       "  -0.004787432961165905,\n",
       "  0.0024939742870628834,\n",
       "  0.0005527109024114907,\n",
       "  0.012129220180213451,\n",
       "  0.053812943398952484,\n",
       "  0.046599555760622025,\n",
       "  -0.002433864399790764,\n",
       "  -0.013873517513275146,\n",
       "  0.05156030133366585,\n",
       "  -0.04168219119310379,\n",
       "  0.01184843759983778,\n",
       "  0.01892494410276413,\n",
       "  0.06811540573835373,\n",
       "  -0.020179040729999542,\n",
       "  0.0008183743921108544,\n",
       "  -0.027059055864810944,\n",
       "  0.02510015107691288,\n",
       "  -0.007276453077793121,\n",
       "  0.04437045380473137,\n",
       "  -0.028390809893608093,\n",
       "  0.06606247276067734,\n",
       "  -0.034531258046627045,\n",
       "  0.0283206719905138,\n",
       "  0.011173496022820473,\n",
       "  0.037144530564546585,\n",
       "  -0.0014790503773838282,\n",
       "  -0.006252239923924208,\n",
       "  0.03677395358681679,\n",
       "  0.016124824061989784,\n",
       "  -0.03034898079931736,\n",
       "  0.022653929889202118,\n",
       "  0.028420045971870422,\n",
       "  -0.049291979521512985,\n",
       "  0.03016764298081398,\n",
       "  -0.00012832661741413176,\n",
       "  0.07171700894832611,\n",
       "  0.022077152505517006,\n",
       "  -0.015953363850712776,\n",
       "  -0.016658270731568336,\n",
       "  -0.011997723020613194,\n",
       "  0.025187868624925613,\n",
       "  -0.046656977385282516,\n",
       "  0.06970014423131943,\n",
       "  0.005574916023761034,\n",
       "  0.007558437529951334,\n",
       "  -0.08377695083618164,\n",
       "  -0.04589071124792099,\n",
       "  -0.018826229497790337,\n",
       "  0.0241299569606781,\n",
       "  -0.0123610720038414,\n",
       "  0.059552665799856186,\n",
       "  -0.06481454521417618,\n",
       "  -0.051461491733789444,\n",
       "  -0.004597011022269726,\n",
       "  -0.005620426498353481,\n",
       "  0.03805067017674446,\n",
       "  -0.017648445442318916,\n",
       "  -0.042056240141391754,\n",
       "  -0.012536806054413319,\n",
       "  -0.05036833509802818,\n",
       "  0.06240002438426018,\n",
       "  -0.11365395784378052,\n",
       "  -0.02127745933830738,\n",
       "  -0.015887904912233353,\n",
       "  0.012126616202294827,\n",
       "  0.00873261783272028,\n",
       "  -0.01028607226908207,\n",
       "  0.03249645233154297,\n",
       "  0.06582820415496826,\n",
       "  -0.03871979936957359,\n",
       "  0.006243075709789991,\n",
       "  0.012100381776690483,\n",
       "  0.03457394987344742,\n",
       "  -0.010381332598626614,\n",
       "  0.010743214748799801,\n",
       "  0.06056808680295944,\n",
       "  0.015833780169487,\n",
       "  -0.015660027042031288,\n",
       "  -0.021088842302560806,\n",
       "  0.010794592089951038,\n",
       "  0.04157012328505516,\n",
       "  -0.032141879200935364,\n",
       "  -0.016439592465758324,\n",
       "  0.010034772567451,\n",
       "  -0.018236534669995308,\n",
       "  -0.03600282222032547,\n",
       "  0.029263412579894066,\n",
       "  -0.05789043754339218,\n",
       "  0.0038491678424179554,\n",
       "  -0.03012729436159134,\n",
       "  0.00799837987869978,\n",
       "  0.04198396950960159,\n",
       "  0.03423810377717018,\n",
       "  -0.07094010710716248,\n",
       "  0.039410702884197235,\n",
       "  -0.0644955188035965,\n",
       "  0.0394028015434742,\n",
       "  -0.021375266835093498,\n",
       "  -0.0882573202252388,\n",
       "  -0.015093589201569557,\n",
       "  0.005349965300410986,\n",
       "  0.01850421354174614,\n",
       "  -0.019760755822062492,\n",
       "  -0.011902674101293087,\n",
       "  0.0014158699195832014,\n",
       "  -0.04277661442756653,\n",
       "  -0.032569196075201035,\n",
       "  -0.04482084885239601,\n",
       "  -0.011040568351745605,\n",
       "  0.0152525519952178,\n",
       "  -0.01377782877534628,\n",
       "  0.06876803934574127,\n",
       "  -0.000510506215505302,\n",
       "  -0.0024114742409437895,\n",
       "  0.038044631481170654,\n",
       "  -0.0009986847871914506,\n",
       "  -0.00990708451718092,\n",
       "  -0.04614243283867836,\n",
       "  0.02419913001358509,\n",
       "  -0.01751803606748581,\n",
       "  0.017744362354278564,\n",
       "  0.01762661151587963,\n",
       "  0.03337223082780838,\n",
       "  0.053209058940410614,\n",
       "  -0.04592488333582878,\n",
       "  -0.0038382243365049362,\n",
       "  -0.029811641201376915,\n",
       "  -0.023760436102747917,\n",
       "  -0.03868548199534416,\n",
       "  -0.040640510618686676,\n",
       "  0.06051969155669212,\n",
       "  0.010801966302096844,\n",
       "  -0.03883842006325722,\n",
       "  -0.010240534320473671,\n",
       "  0.033144064247608185,\n",
       "  -0.026548277586698532,\n",
       "  -0.035932235419750214,\n",
       "  0.017902184277772903,\n",
       "  0.005141379777342081,\n",
       "  0.0520792119204998,\n",
       "  0.010641222819685936,\n",
       "  0.01663137413561344,\n",
       "  -0.01422128826379776,\n",
       "  0.01485596876591444,\n",
       "  0.0032171800266951323,\n",
       "  -0.004617338068783283,\n",
       "  0.08768410235643387,\n",
       "  0.027210086584091187,\n",
       "  0.054229218512773514,\n",
       "  -5.826525461604815e-33,\n",
       "  0.00020522720296867192,\n",
       "  0.05440480634570122,\n",
       "  -0.006641981657594442,\n",
       "  0.08103843778371811,\n",
       "  -0.011153925210237503,\n",
       "  -0.028304390609264374,\n",
       "  -0.020390063524246216,\n",
       "  -0.0070854839868843555,\n",
       "  -0.05871327593922615,\n",
       "  -0.022902734577655792,\n",
       "  0.027862003073096275,\n",
       "  0.027935422956943512,\n",
       "  0.019185813143849373,\n",
       "  0.04605543613433838,\n",
       "  0.009548504836857319,\n",
       "  0.05837177857756615,\n",
       "  -0.03125305473804474,\n",
       "  -0.00965417642146349,\n",
       "  -0.018775083124637604,\n",
       "  -0.0015520406886935234,\n",
       "  -0.057003509253263474,\n",
       "  0.018186356872320175,\n",
       "  -0.04210233688354492,\n",
       "  0.042860567569732666,\n",
       "  -0.0368916317820549,\n",
       "  -0.014758273027837276,\n",
       "  -0.02122366428375244,\n",
       "  -0.0015253961319103837,\n",
       "  0.0647939071059227,\n",
       "  -0.041917044669389725,\n",
       "  0.033695001155138016,\n",
       "  -0.022084327414631844,\n",
       "  -0.017432237043976784,\n",
       "  -0.08115828782320023,\n",
       "  -0.00891458336263895,\n",
       "  -0.01904616504907608,\n",
       "  -0.01991640217602253,\n",
       "  -0.03400065749883652,\n",
       "  -0.06247171387076378,\n",
       "  0.010586395859718323,\n",
       "  0.002479930641129613,\n",
       "  0.06489230692386627,\n",
       "  0.029096107929944992,\n",
       "  -0.031019272282719612,\n",
       "  0.011780664324760437,\n",
       "  0.02214917540550232,\n",
       "  0.02796011045575142,\n",
       "  0.0388871505856514,\n",
       "  0.030085468664765358,\n",
       "  0.07698776572942734,\n",
       "  0.017973950132727623,\n",
       "  0.028904549777507782,\n",
       "  -0.030786657705903053,\n",
       "  0.047091152518987656,\n",
       "  0.022694330662488937,\n",
       "  -0.002708456479012966,\n",
       "  -0.010964709334075451,\n",
       "  0.019508369266986847,\n",
       "  0.05871054530143738,\n",
       "  0.0291899461299181,\n",
       "  0.09600096940994263,\n",
       "  -0.009622722864151001,\n",
       "  0.019955644384026527,\n",
       "  -0.005371056031435728,\n",
       "  0.0366656556725502,\n",
       "  0.003118602093309164,\n",
       "  0.027355225756764412,\n",
       "  -0.04161154851317406,\n",
       "  0.030988527461886406,\n",
       "  0.05151941254734993,\n",
       "  -0.026994042098522186,\n",
       "  0.03563052415847778,\n",
       "  -0.017376869916915894,\n",
       "  0.04163375869393349,\n",
       "  -0.060959022492170334,\n",
       "  -0.005717850290238857,\n",
       "  0.005977212451398373,\n",
       "  -0.004851691424846649,\n",
       "  0.06811342388391495,\n",
       "  -0.00010873366409214213,\n",
       "  -0.031036054715514183,\n",
       "  -0.01809171959757805,\n",
       "  0.008984055370092392,\n",
       "  0.0028907773084938526,\n",
       "  0.05254161357879639,\n",
       "  -0.015630114823579788,\n",
       "  -0.03149620071053505,\n",
       "  -0.009902049787342548,\n",
       "  -0.018750913441181183,\n",
       "  0.024282356724143028,\n",
       "  -0.011263241991400719,\n",
       "  0.12013106793165207,\n",
       "  -0.0077837686985731125,\n",
       "  0.0015281197847798467,\n",
       "  -0.014816553331911564,\n",
       "  0.013042418286204338,\n",
       "  0.008536143228411674,\n",
       "  0.017257526516914368,\n",
       "  0.006811828352510929,\n",
       "  -0.005274906288832426,\n",
       "  -0.04373383894562721,\n",
       "  -0.03190045431256294,\n",
       "  0.008582647889852524,\n",
       "  0.018364351242780685,\n",
       "  0.021843576803803444,\n",
       "  -0.0027580501046031713,\n",
       "  -0.014563370496034622,\n",
       "  -0.03779841959476471,\n",
       "  -0.02897912636399269,\n",
       "  0.004938669968396425,\n",
       "  -0.003598687471821904,\n",
       "  0.012247573584318161,\n",
       "  0.0004267459153197706,\n",
       "  -0.038241129368543625,\n",
       "  -0.01517985388636589,\n",
       "  -0.007766268216073513,\n",
       "  0.007388060912489891,\n",
       "  0.025902744382619858,\n",
       "  -0.0051124207675457,\n",
       "  0.010391429997980595,\n",
       "  -0.020192496478557587,\n",
       "  -0.03669362515211105,\n",
       "  -0.021162105724215508,\n",
       "  -0.022472597658634186,\n",
       "  0.005061211530119181,\n",
       "  -0.022772379219532013,\n",
       "  -0.025976385921239853,\n",
       "  -0.029514364898204803,\n",
       "  0.03192281350493431,\n",
       "  0.0017265392234548926,\n",
       "  -0.0017129747429862618,\n",
       "  -0.018883680924773216,\n",
       "  2.458782830672135e-07,\n",
       "  -0.01824069209396839,\n",
       "  0.07730792462825775,\n",
       "  -0.0031231564935296774,\n",
       "  0.0010638092644512653,\n",
       "  -0.017621468752622604,\n",
       "  -0.07323367148637772,\n",
       "  -0.024937257170677185,\n",
       "  -0.0014668990625068545,\n",
       "  0.003810904687270522,\n",
       "  0.015870586037635803,\n",
       "  -0.022122042253613472,\n",
       "  -0.003703525522723794,\n",
       "  0.008649615570902824,\n",
       "  0.0426115058362484,\n",
       "  -0.010874344035983086,\n",
       "  -0.08164255321025848,\n",
       "  5.924685319769196e-05,\n",
       "  -0.06612154096364975,\n",
       "  -0.03319337218999863,\n",
       "  0.02409260906279087,\n",
       "  0.011722459457814693,\n",
       "  0.04977384954690933,\n",
       "  0.04543587192893028,\n",
       "  0.011450388468801975,\n",
       "  0.023228870704770088,\n",
       "  -0.026833584532141685,\n",
       "  -0.04430403932929039,\n",
       "  -0.05221040919423103,\n",
       "  0.052972178906202316,\n",
       "  0.06694464385509491,\n",
       "  -0.05562577396631241,\n",
       "  0.05397048965096474,\n",
       "  -0.019305218011140823,\n",
       "  0.07028751075267792,\n",
       "  -0.03460078313946724,\n",
       "  -0.03761943802237511,\n",
       "  0.0026331099215894938,\n",
       "  -0.015088926069438457,\n",
       "  0.0032114540226757526,\n",
       "  0.020758559927344322,\n",
       "  0.015574072487652302,\n",
       "  -0.006811575032770634,\n",
       "  -0.058790434151887894,\n",
       "  -0.1215185895562172,\n",
       "  0.04275058954954147,\n",
       "  -0.03589624539017677,\n",
       "  -0.026131173595786095,\n",
       "  0.053062357008457184,\n",
       "  -0.04876663163304329,\n",
       "  -0.01940680481493473,\n",
       "  -0.016019124537706375,\n",
       "  0.026355624198913574,\n",
       "  0.020881952717900276,\n",
       "  -0.033537741750478745,\n",
       "  -0.0028836883138865232,\n",
       "  -0.02544812671840191,\n",
       "  -0.0453348308801651,\n",
       "  0.0028242766857147217,\n",
       "  0.014104370027780533,\n",
       "  -0.02369096502661705,\n",
       "  -0.01802797056734562,\n",
       "  -0.031121164560317993,\n",
       "  0.014707421883940697,\n",
       "  -0.054138634353876114,\n",
       "  -0.0007549108122475445,\n",
       "  0.004002398811280727,\n",
       "  0.027016637846827507,\n",
       "  2.485037531555289e-34,\n",
       "  0.004106934182345867,\n",
       "  -0.016724057495594025,\n",
       "  0.022823957726359367,\n",
       "  -0.022890664637088776,\n",
       "  -0.00698969978839159,\n",
       "  -0.0371277779340744,\n",
       "  0.09435013681650162,\n",
       "  -0.021881278604269028,\n",
       "  -0.005532707553356886,\n",
       "  -0.04500044137239456,\n",
       "  -0.04094463214278221]}"
      ]
     },
     "execution_count": 8,
     "metadata": {},
     "output_type": "execute_result"
    }
   ],
   "source": [
    "#created the dense vector using the pre-trained model\n",
    "operations = []\n",
    "for doc in documents:\n",
    "    # Transforming the title into an embedding using the model\n",
    "    doc[\"text_vector\"] = model.encode(doc[\"text\"]).tolist()\n",
    "    operations.append(doc)\n",
    "\n",
    "operations[1]"
   ]
  },
  {
   "cell_type": "markdown",
   "metadata": {},
   "source": [
    "#### Step 3: Setup ElasticSearch connection "
   ]
  },
  {
   "cell_type": "code",
   "execution_count": 9,
   "metadata": {},
   "outputs": [
    {
     "data": {
      "text/plain": [
       "ObjectApiResponse({'name': '9a4b10fe806a', 'cluster_name': 'docker-cluster', 'cluster_uuid': 'THDyoiTHR-WcVInVBGkb9Q', 'version': {'number': '8.4.3', 'build_flavor': 'default', 'build_type': 'docker', 'build_hash': '42f05b9372a9a4a470db3b52817899b99a76ee73', 'build_date': '2022-10-04T07:17:24.662462378Z', 'build_snapshot': False, 'lucene_version': '9.3.0', 'minimum_wire_compatibility_version': '7.17.0', 'minimum_index_compatibility_version': '7.0.0'}, 'tagline': 'You Know, for Search'})"
      ]
     },
     "execution_count": 9,
     "metadata": {},
     "output_type": "execute_result"
    }
   ],
   "source": [
    "from elasticsearch import Elasticsearch\n",
    "es_client = Elasticsearch('http://localhost:9200') \n",
    "\n",
    "es_client.info()"
   ]
  },
  {
   "cell_type": "markdown",
   "metadata": {},
   "source": [
    "#### Step 4: Create Mappings and Index"
   ]
  },
  {
   "cell_type": "markdown",
   "metadata": {},
   "source": [
    "* Mapping is the process of defining how a document, and the fields it contains, are stored and indexed.\n",
    "\n",
    "* Each document is a collection of fields, which each have their own data type.\n",
    "\n",
    "* We can compare mapping to a database schema in how it describes the fields and properties that documents hold, the datatype of each field (e.g., string, integer, or date), and how those fields should be indexed and stored \n",
    "\n"
   ]
  },
  {
   "cell_type": "code",
   "execution_count": 10,
   "metadata": {},
   "outputs": [],
   "source": [
    "index_settings = {\n",
    "    \"settings\": {\n",
    "        \"number_of_shards\": 1,\n",
    "        \"number_of_replicas\": 0\n",
    "    },\n",
    "    \"mappings\": {\n",
    "        \"properties\": {\n",
    "            \"text\": {\"type\": \"text\"},\n",
    "            \"section\": {\"type\": \"text\"},\n",
    "            \"question\": {\"type\": \"text\"},\n",
    "            \"course\": {\"type\": \"keyword\"} ,\n",
    "            \"text_vector\": {\"type\": \"dense_vector\", \n",
    "                            \"dims\": 768, \n",
    "                            \"index\": True, \n",
    "                            \"similarity\": \"cosine\"},\n",
    "        }\n",
    "    }\n",
    "}"
   ]
  },
  {
   "cell_type": "code",
   "execution_count": 15,
   "metadata": {},
   "outputs": [
    {
     "name": "stdout",
     "output_type": "stream",
     "text": [
      "{'03-course-questions': {'aliases': {}}, 'llm-course-questions': {'aliases': {}}, 'streamlit_w_dogs': {'aliases': {}}}\n"
     ]
    }
   ],
   "source": [
    "# check existing indices\n",
    "# Get a list of all indices\n",
    "indices = es_client.indices.get_alias(index=\"*\")\n",
    "print(indices)"
   ]
  },
  {
   "cell_type": "code",
   "execution_count": 14,
   "metadata": {},
   "outputs": [
    {
     "data": {
      "text/plain": [
       "ObjectApiResponse({'acknowledged': True, 'shards_acknowledged': True, 'index': '03-course-questions'})"
      ]
     },
     "execution_count": 14,
     "metadata": {},
     "output_type": "execute_result"
    }
   ],
   "source": [
    "index_name = \"03-course-questions\"\n",
    "\n",
    "#es_client.indices.delete(index=index_name, ignore_unavailable=True)\n",
    "es_client.indices.create(index=index_name, body=index_settings)"
   ]
  },
  {
   "cell_type": "markdown",
   "metadata": {},
   "source": [
    "#### Step 5: Add documents into index"
   ]
  },
  {
   "cell_type": "code",
   "execution_count": 16,
   "metadata": {},
   "outputs": [],
   "source": [
    "for doc in operations:\n",
    "    try:\n",
    "        es_client.index(index=index_name, document=doc)\n",
    "    except Exception as e:\n",
    "        print(e)"
   ]
  },
  {
   "cell_type": "markdown",
   "metadata": {},
   "source": [
    "#### Step 6: Create end user query"
   ]
  },
  {
   "cell_type": "code",
   "execution_count": 17,
   "metadata": {},
   "outputs": [],
   "source": [
    "search_term = \"windows or mac?\"\n",
    "vector_search_term = model.encode(search_term)"
   ]
  },
  {
   "cell_type": "code",
   "execution_count": 18,
   "metadata": {},
   "outputs": [],
   "source": [
    "query = {\n",
    "    \"field\": \"text_vector\",\n",
    "    \"query_vector\": vector_search_term,\n",
    "    \"k\": 5,\n",
    "    \"num_candidates\": 10000, \n",
    "}"
   ]
  },
  {
   "cell_type": "code",
   "execution_count": 19,
   "metadata": {},
   "outputs": [
    {
     "data": {
      "text/plain": [
       "[{'_index': '03-course-questions',\n",
       "  '_id': 'A9H4rZABi-5zmdueKchf',\n",
       "  '_score': 0.71479195,\n",
       "  '_source': {'question': 'Environment - Is the course [Windows/mac/Linux/...] friendly?',\n",
       "   'course': 'data-engineering-zoomcamp',\n",
       "   'section': 'General course-related questions',\n",
       "   'text': 'Yes! Linux is ideal but technically it should not matter. Students last year used all 3 OSes successfully'}},\n",
       " {'_index': '03-course-questions',\n",
       "  '_id': 'FtH4rZABi-5zmdueU8tm',\n",
       "  '_score': 0.61347336,\n",
       "  '_source': {'question': 'WSL instructions',\n",
       "   'course': 'mlops-zoomcamp',\n",
       "   'section': 'Module 1: Introduction',\n",
       "   'text': 'If you wish to use WSL on your windows machine, here are the setup instructions:\\nCommand: Sudo apt install wget\\nGet Anaconda download address here. wget <download address>\\nTurn on Docker Desktop WFree Download | AnacondaSL2\\nCommand: git clone <github repository address>\\nVSCODE on WSL\\nJupyter: pip3 install jupyter\\nAdded by Gregory Morris (gwm1980@gmail.com)\\nAll in all softwares at one shop:\\nYou can use anaconda which has all built in services like pycharm, jupyter\\nAdded by Khaja Zaffer (khajazaffer@aln.iseg.ulisboa.pt)\\nFor windows “wsl --install” in Powershell\\nAdded by Vadim Surin (vdmsurin@gmai.com)'}},\n",
       " {'_index': '03-course-questions',\n",
       "  '_id': '19H4rZABi-5zmdueRMlM',\n",
       "  '_score': 0.60555583,\n",
       "  '_source': {'question': \"The answer I get for one of the homework questions doesn't match any of the options. What should I do?\",\n",
       "   'course': 'machine-learning-zoomcamp',\n",
       "   'section': '2. Machine Learning for Regression',\n",
       "   'text': 'That’s normal. We all have different environments: our computers have different versions of OS and different versions of libraries — even different versions of Python.\\nIf it’s the case, just select the option that’s closest to your answer'}},\n",
       " {'_index': '03-course-questions',\n",
       "  '_id': 'MNH4rZABi-5zmdueSMrW',\n",
       "  '_score': 0.6028961,\n",
       "  '_source': {'question': 'How to install WSL on Windows 10 and 11 ?',\n",
       "   'course': 'machine-learning-zoomcamp',\n",
       "   'section': '5. Deploying Machine Learning Models',\n",
       "   'text': 'It is quite simple, and you can follow these instructions here:\\nhttps://www.youtube.com/watch?v=qYlgUDKKK5A&ab_channel=NeuralNine\\nMake sure that you have “Virtual Machine Platform” feature activated in your Windows “Features”. To do that, search “features” in the research bar and see if the checkbox is selected. You also need to make sure that your system (in the bios) is able to virtualize. This is usually the case.\\nIn the Microsoft Store: look for ‘Ubuntu’ or ‘Debian’ (or any linux distribution you want) and install it\\nOnce it is downloaded, open the app and choose a username and a password (secured one). When you type your password, nothing will show in the window, which is normal: the writing is invisible.\\nYou are now inside of your linux system. You can test some commands such as “pwd”. You are not in your Windows system.\\nTo go to your windows system: you need to go back two times with cd ../.. And then go to the “mnt” directory with cd mnt. If you list here your files, you will see your disks. You can move to the desired folder, for example here I moved to the ML_Zoomcamp folder:\\nPython should be already installed but you can check it by running sudo apt install python3 command.\\nYou can make your actual folder your default folder when you open your Ubuntu terminal with this command : echo \"cd ../../mnt/your/folder/path\" >> ~/.bashrc\\nYou can disable bell sounds (when you type something that does not exist for example) by modifying the inputrc file with this command: sudo vim /etc/inputrc\\nYou have to uncomment the set bell-style none line -> to do that, press the “i” keyboard letter (for insert) and go with your keyboard to this line. Delete the # and then press the Escape keyboard touch and finally press “:wq” to write (it saves your modifications) then quit.\\nYou can check that your modifications are taken into account by opening a new terminal (you can pin it to your task bar so you do not have to go to the Microsoft app each time).\\nYou will need to install pip by running this command sudo apt install python3-pip\\nNB: I had this error message when trying to install pipenv (https://github.com/microsoft/WSL/issues/5663):\\n/sbin/ldconfig.real: Can\\'t link /usr/lib/wsl/lib/libnvoptix_loader.so.1 to libnvoptix.so.1\\n/sbin/ldconfig.real: /usr/lib/wsl/lib/libcuda.so.1 is not a symbolic link\\nSo I had to create the following symbolic link:\\nsudo ln -s /usr/lib/wsl/lib/libcuda.so.1 /usr/lib64/libcuda.so\\n(Mélanie Fouesnard)'}},\n",
       " {'_index': '03-course-questions',\n",
       "  '_id': '9NH4rZABi-5zmdueKMdv',\n",
       "  '_score': 0.5985867,\n",
       "  '_source': {'question': 'Environment - Should I use my local machine, GCP, or GitHub Codespaces for my environment?',\n",
       "   'course': 'data-engineering-zoomcamp',\n",
       "   'section': 'General course-related questions',\n",
       "   'text': 'You can set it up on your laptop or PC if you prefer to work locally from your laptop or PC.\\nYou might face some challenges, especially for Windows users. If you face cnd2\\nIf you prefer to work on the local machine, you may start with the week 1 Introduction to Docker and follow through.\\nHowever, if you prefer to set up a virtual machine, you may start with these first:\\nUsing GitHub Codespaces\\nSetting up the environment on a cloudV Mcodespace\\nI decided to work on a virtual machine because I have different laptops & PCs for my home & office, so I can work on this boot camp virtually anywhere.'}}]"
      ]
     },
     "execution_count": 19,
     "metadata": {},
     "output_type": "execute_result"
    }
   ],
   "source": [
    "res = es_client.search(index=index_name, \n",
    "                       knn=query, \n",
    "                       source=[\"text\", \"section\", \"question\", \"course\"])\n",
    "res[\"hits\"][\"hits\"]"
   ]
  },
  {
   "cell_type": "markdown",
   "metadata": {},
   "source": [
    "#### Step 7: Perform Keyword search with Semantic Search (Hybrid/Advanced Search)"
   ]
  },
  {
   "cell_type": "code",
   "execution_count": 20,
   "metadata": {},
   "outputs": [],
   "source": [
    "# Note: I made a minor modification to the query shown in the notebook here\n",
    "# (compare to the one shown in the video)\n",
    "# Included \"knn\" in the search query (to perform a semantic search) along with the filter  \n",
    "knn_query = {\n",
    "    \"field\": \"text_vector\",\n",
    "    \"query_vector\": vector_search_term,\n",
    "    \"k\": 5,\n",
    "    \"num_candidates\": 10000\n",
    "}"
   ]
  },
  {
   "cell_type": "code",
   "execution_count": 25,
   "metadata": {},
   "outputs": [],
   "source": [
    "response = es_client.search(\n",
    "    index=index_name,\n",
    "    query={\n",
    "        \"match\": {\"section\": \"data-engineering-zoomcamp\"},\n",
    "    },\n",
    "    knn=knn_query,\n",
    "    size=5,\n",
    "    source=[\"text\", \"section\", \"question\", \"course\"]\n",
    ")"
   ]
  },
  {
   "cell_type": "code",
   "execution_count": 26,
   "metadata": {},
   "outputs": [
    {
     "data": {
      "text/plain": [
       "[{'_index': '03-course-questions',\n",
       "  '_id': 'sdH4rZABi-5zmdueNcgH',\n",
       "  '_score': 3.9738145,\n",
       "  '_source': {'question': 'GCP BQ - Remember to save your queries',\n",
       "   'course': 'data-engineering-zoomcamp',\n",
       "   'section': 'Module 3: Data Warehousing',\n",
       "   'text': 'By the way, this isn’t a problem/solution, but a useful hint:\\nPlease, remember to save your progress in BigQuery SQL Editor.\\nI was almost finishing the homework, when my Chrome Tab froze and I had to reload it. Then I lost my entire SQL script.\\nSave your script from time to time. Just click on the button at the top bar. Your saved file will be available on the left panel.\\nAlternatively, you can copy paste your queries into an .sql file in your preferred editor (Notepad++, VS Code, etc.). Using the .sql extension will provide convenient color formatting.'}},\n",
       " {'_index': '03-course-questions',\n",
       "  '_id': 'stH4rZABi-5zmdueNcgX',\n",
       "  '_score': 3.9738145,\n",
       "  '_source': {'question': 'GCP BQ - Can I use BigQuery for real-time analytics in this project?',\n",
       "   'course': 'data-engineering-zoomcamp',\n",
       "   'section': 'Module 3: Data Warehousing',\n",
       "   'text': 'Ans :  While real-time analytics might not be explicitly mentioned, BigQuery has real-time data streaming capabilities, allowing for potential integration in future project iterations.'}},\n",
       " {'_index': '03-course-questions',\n",
       "  '_id': 's9H4rZABi-5zmdueNcgk',\n",
       "  '_score': 3.9738145,\n",
       "  '_source': {'question': 'GCP BQ - Unable to load data from external tables into a materialized table in BigQuery due to an invalid timestamp error that are added while appending data to the file in Google Cloud Storage',\n",
       "   'course': 'data-engineering-zoomcamp',\n",
       "   'section': 'Module 3: Data Warehousing',\n",
       "   'text': \"could not parse 'pickup_datetime' as timestamp for field pickup_datetime (position 2)\\nThis error is caused by invalid data in the timestamp column. A way to identify the problem is to define the schema from the external table using string datatype. This enables the queries to work at which point we can filter out the invalid rows from the import to the materialised table and insert the fields with the timestamp data type.\"}},\n",
       " {'_index': '03-course-questions',\n",
       "  '_id': 'tNH4rZABi-5zmdueNcgx',\n",
       "  '_score': 3.9738145,\n",
       "  '_source': {'question': 'GCP BQ - Error Message in BigQuery: annotated as a valid Timestamp, please annotate it as TimestampType(MICROS) or TimestampType(MILLIS)',\n",
       "   'course': 'data-engineering-zoomcamp',\n",
       "   'section': 'Module 3: Data Warehousing',\n",
       "   'text': 'Background:\\n`pd.read_parquet`\\n`pd.to_datetime`\\n`pq.write_to_dataset`\\nReference:\\nhttps://stackoverflow.com/questions/48314880/are-parquet-file-created-with-pyarrow-vs-pyspark-compatible\\nhttps://stackoverflow.com/questions/57798479/editing-parquet-files-with-python-causes-errors-to-datetime-format\\nhttps://www.reddit.com/r/bigquery/comments/16aoq0u/parquet_timestamp_to_bq_coming_across_as_int/?share_id=YXqCs5Jl6hQcw-kg6-VgF&utm_content=1&utm_medium=ios_app&utm_name=ioscss&utm_source=share&utm_term=1\\nSolution:\\nAdd `use_deprecated_int96_timestamps=True` to `pq.write_to_dataset` function, like below\\npq.write_to_dataset(\\ntable,\\nroot_path=root_path,\\nfilesystem=gcs,\\nuse_deprecated_int96_timestamps=True\\n# Write timestamps to INT96 Parquet format\\n)'}},\n",
       " {'_index': '03-course-questions',\n",
       "  '_id': 'tdH4rZABi-5zmdueNcg-',\n",
       "  '_score': 3.9738145,\n",
       "  '_source': {'question': 'GCP BQ - Datetime columns in Parquet files created from Pandas show up as integer columns in BigQuery',\n",
       "   'course': 'data-engineering-zoomcamp',\n",
       "   'section': 'Module 3: Data Warehousing',\n",
       "   'text': 'Solution:\\nIf you’re using Mage, in the last Data Exporter that writes to Google Cloud Storage use PyArrow to generate the Parquet file with the correct logical type for the datetime columns, otherwise they won\\'t be converted to timestamp when loaded by BigQuery later on.\\nimport pyarrow as pa\\nimport pyarrow.parquet as pq\\nimport os\\nif \\'data_exporter\\' not in globals():\\nfrom mage_ai.data_preparation.decorators import data_exporter\\n# Replace with the location of your service account key JSON file.\\nos.environ[\\'GOOGLE_APPLICATION_CREDENTIALS\\'] = \\'/home/src/personal-gcp.json\\'\\nbucket_name = \"<YOUR_BUCKET_NAME>\"\\nobject_key = \\'nyc_taxi_data_2022.parquet\\'\\nwhere = f\\'{bucket_name}/{object_key}\\'\\n@data_exporter\\ndef export_data(data, *args, **kwargs):\\ntable = pa.Table.from_pandas(data, preserve_index=False)\\ngcs = pa.fs.GcsFileSystem()\\npq.write_table(\\ntable,\\nwhere,\\n# Convert integer columns in Epoch milliseconds\\n# to Timestamp columns in microseconds (\\'us\\') so\\n# they can be loaded into BigQuery with the right\\n# data type\\ncoerce_timestamps=\\'us\\',\\nfilesystem=gcs\\n)\\nSolution 2:\\nIf you’re using Mage, in the last Data Exporter that writes to Google Cloud Storage, provide PyArrow with explicit schema to generate the Parquet file with the correct logical type for the datetime columns, otherwise they won\\'t be converted to timestamp when loaded by BigQuery later on.\\nschema = pa.schema([\\n(\\'vendor_id\\', pa.int64()),\\n(\\'lpep_pickup_datetime\\', pa.timestamp(\\'ns\\')),\\n(\\'lpep_dropoff_datetime\\', pa.timestamp(\\'ns\\')),\\n(\\'store_and_fwd_flag\\', pa.string()),\\n(\\'ratecode_id\\', pa.int64()),\\n(\\'pu_location_id\\', pa.int64()),\\n(\\'do_location_id\\', pa.int64()),\\n(\\'passenger_count\\', pa.int64()),\\n(\\'trip_distance\\', pa.float64()),\\n(\\'fare_amount\\', pa.float64()),\\n(\\'extra\\', pa.float64()),\\n(\\'mta_tax\\', pa.float64()),\\n(\\'tip_amount\\', pa.float64()),\\n(\\'tolls_amount\\', pa.float64()),\\n(\\'improvement_surcharge\\', pa.float64()),\\n(\\'total_amount\\', pa.float64()),\\n(\\'payment_type\\', pa.int64()),\\n(\\'trip_type\\', pa.int64()),\\n(\\'congestion_surcharge\\', pa.float64()),\\n(\\'lpep_pickup_month\\', pa.int64())\\n])\\ntable = pa.Table.from_pandas(data, schema=schema)'}}]"
      ]
     },
     "execution_count": 26,
     "metadata": {},
     "output_type": "execute_result"
    }
   ],
   "source": [
    "response[\"hits\"][\"hits\"]"
   ]
  },
  {
   "cell_type": "markdown",
   "metadata": {},
   "source": [
    "#### References"
   ]
  },
  {
   "cell_type": "markdown",
   "metadata": {},
   "source": [
    "1. https://logz.io/blog/elasticsearch-mapping/#:~:text=Within%20a%20search%20engine%2C%20mapping,indexes%20and%20stores%20its%20fields\n",
    "\n",
    "2. https://www.sbert.net/docs/sentence_transformer/pretrained_models.html\n",
    "\n",
    "3. https://www.elastic.co/search-labs/tutorials\n",
    "\n",
    "4. https://www.elastic.co/search-labs/blog/text-similarity-search-with-vectors-in-elasticsearch"
   ]
  }
 ],
 "metadata": {
  "kernelspec": {
   "display_name": "Python 3.11.5",
   "language": "python",
   "name": "py311"
  },
  "language_info": {
   "codemirror_mode": {
    "name": "ipython",
    "version": 3
   },
   "file_extension": ".py",
   "mimetype": "text/x-python",
   "name": "python",
   "nbconvert_exporter": "python",
   "pygments_lexer": "ipython3",
   "version": "3.11.5"
  }
 },
 "nbformat": 4,
 "nbformat_minor": 4
}
