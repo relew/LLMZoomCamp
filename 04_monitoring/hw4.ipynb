{
 "cells": [
  {
   "cell_type": "code",
   "execution_count": 1,
   "id": "c8640580-9d99-48b5-b839-90d2425353ea",
   "metadata": {},
   "outputs": [],
   "source": [
    "import pandas as pd"
   ]
  },
  {
   "cell_type": "code",
   "execution_count": 3,
   "id": "c2c52119-6d93-4b32-bf82-ed7f18024f76",
   "metadata": {},
   "outputs": [
    {
     "data": {
      "text/html": [
       "<div>\n",
       "<style scoped>\n",
       "    .dataframe tbody tr th:only-of-type {\n",
       "        vertical-align: middle;\n",
       "    }\n",
       "\n",
       "    .dataframe tbody tr th {\n",
       "        vertical-align: top;\n",
       "    }\n",
       "\n",
       "    .dataframe thead th {\n",
       "        text-align: right;\n",
       "    }\n",
       "</style>\n",
       "<table border=\"1\" class=\"dataframe\">\n",
       "  <thead>\n",
       "    <tr style=\"text-align: right;\">\n",
       "      <th></th>\n",
       "      <th>answer_llm</th>\n",
       "      <th>answer_orig</th>\n",
       "      <th>document</th>\n",
       "      <th>question</th>\n",
       "      <th>course</th>\n",
       "    </tr>\n",
       "  </thead>\n",
       "  <tbody>\n",
       "    <tr>\n",
       "      <th>0</th>\n",
       "      <td>You can sign up for the course by visiting the...</td>\n",
       "      <td>Machine Learning Zoomcamp FAQ\\nThe purpose of ...</td>\n",
       "      <td>0227b872</td>\n",
       "      <td>Where can I sign up for the course?</td>\n",
       "      <td>machine-learning-zoomcamp</td>\n",
       "    </tr>\n",
       "  </tbody>\n",
       "</table>\n",
       "</div>"
      ],
      "text/plain": [
       "                                          answer_llm  \\\n",
       "0  You can sign up for the course by visiting the...   \n",
       "\n",
       "                                         answer_orig  document  \\\n",
       "0  Machine Learning Zoomcamp FAQ\\nThe purpose of ...  0227b872   \n",
       "\n",
       "                              question                     course  \n",
       "0  Where can I sign up for the course?  machine-learning-zoomcamp  "
      ]
     },
     "execution_count": 3,
     "metadata": {},
     "output_type": "execute_result"
    }
   ],
   "source": [
    "answers_csv = 'results-gpt4o-mini.csv'\n",
    "df = pd.read_csv(answers_csv)\n",
    "df = df.iloc[:300]\n",
    "df.head(1)"
   ]
  },
  {
   "cell_type": "code",
   "execution_count": 11,
   "id": "3da4825c-788a-4ef3-bb00-0181be7a1e18",
   "metadata": {},
   "outputs": [
    {
     "data": {
      "application/vnd.jupyter.widget-view+json": {
       "model_id": "e83ba354a30f47d98f7436593e2fb9b2",
       "version_major": 2,
       "version_minor": 0
      },
      "text/plain": [
       "modules.json:   0%|          | 0.00/229 [00:00<?, ?B/s]"
      ]
     },
     "metadata": {},
     "output_type": "display_data"
    },
    {
     "data": {
      "application/vnd.jupyter.widget-view+json": {
       "model_id": "bb649ebb204d4eb48d60413a6107c4f4",
       "version_major": 2,
       "version_minor": 0
      },
      "text/plain": [
       "config_sentence_transformers.json:   0%|          | 0.00/212 [00:00<?, ?B/s]"
      ]
     },
     "metadata": {},
     "output_type": "display_data"
    },
    {
     "name": "stderr",
     "output_type": "stream",
     "text": [
      "You try to use a model that was created with version 3.0.0.dev0, however, your version is 2.7.0. This might cause unexpected behavior or errors. In that case, try to update to the latest version.\n",
      "\n",
      "\n",
      "\n"
     ]
    },
    {
     "data": {
      "application/vnd.jupyter.widget-view+json": {
       "model_id": "92500bdf7ef742ef9fb635c448a28dee",
       "version_major": 2,
       "version_minor": 0
      },
      "text/plain": [
       "README.md:   0%|          | 0.00/8.71k [00:00<?, ?B/s]"
      ]
     },
     "metadata": {},
     "output_type": "display_data"
    },
    {
     "data": {
      "application/vnd.jupyter.widget-view+json": {
       "model_id": "3034eb0514cd4755801830d53f993406",
       "version_major": 2,
       "version_minor": 0
      },
      "text/plain": [
       "sentence_bert_config.json:   0%|          | 0.00/53.0 [00:00<?, ?B/s]"
      ]
     },
     "metadata": {},
     "output_type": "display_data"
    },
    {
     "data": {
      "application/vnd.jupyter.widget-view+json": {
       "model_id": "fd3c123c7def44a6915b003d78198570",
       "version_major": 2,
       "version_minor": 0
      },
      "text/plain": [
       "config.json:   0%|          | 0.00/571 [00:00<?, ?B/s]"
      ]
     },
     "metadata": {},
     "output_type": "display_data"
    },
    {
     "data": {
      "application/vnd.jupyter.widget-view+json": {
       "model_id": "226fed1e1e9d4f0986d6089eac6b049c",
       "version_major": 2,
       "version_minor": 0
      },
      "text/plain": [
       "model.safetensors:   0%|          | 0.00/438M [00:00<?, ?B/s]"
      ]
     },
     "metadata": {},
     "output_type": "display_data"
    },
    {
     "data": {
      "application/vnd.jupyter.widget-view+json": {
       "model_id": "fe40eba0292f4e1a86f6c25b3b657030",
       "version_major": 2,
       "version_minor": 0
      },
      "text/plain": [
       "tokenizer_config.json:   0%|          | 0.00/363 [00:00<?, ?B/s]"
      ]
     },
     "metadata": {},
     "output_type": "display_data"
    },
    {
     "data": {
      "application/vnd.jupyter.widget-view+json": {
       "model_id": "b3ef68b511af4e57864852b3b4fdc25a",
       "version_major": 2,
       "version_minor": 0
      },
      "text/plain": [
       "vocab.txt:   0%|          | 0.00/232k [00:00<?, ?B/s]"
      ]
     },
     "metadata": {},
     "output_type": "display_data"
    },
    {
     "data": {
      "application/vnd.jupyter.widget-view+json": {
       "model_id": "1b6384aa6b45489cb17562bfb193839d",
       "version_major": 2,
       "version_minor": 0
      },
      "text/plain": [
       "tokenizer.json:   0%|          | 0.00/466k [00:00<?, ?B/s]"
      ]
     },
     "metadata": {},
     "output_type": "display_data"
    },
    {
     "data": {
      "application/vnd.jupyter.widget-view+json": {
       "model_id": "ec1ae4bafcc4479189e4d01393d41ce9",
       "version_major": 2,
       "version_minor": 0
      },
      "text/plain": [
       "special_tokens_map.json:   0%|          | 0.00/239 [00:00<?, ?B/s]"
      ]
     },
     "metadata": {},
     "output_type": "display_data"
    },
    {
     "data": {
      "application/vnd.jupyter.widget-view+json": {
       "model_id": "133d3b54368b465693a1bd57612fd1ac",
       "version_major": 2,
       "version_minor": 0
      },
      "text/plain": [
       "1_Pooling/config.json:   0%|          | 0.00/190 [00:00<?, ?B/s]"
      ]
     },
     "metadata": {},
     "output_type": "display_data"
    }
   ],
   "source": [
    "from sentence_transformers import SentenceTransformer\n",
    "\n",
    "model_name = 'multi-qa-mpnet-base-dot-v1'\n",
    "embedding_model = SentenceTransformer(model_name)"
   ]
  },
  {
   "cell_type": "markdown",
   "id": "33ac2c05-c178-48a8-ad85-74afa4522474",
   "metadata": {},
   "source": [
    "# Q1"
   ]
  },
  {
   "cell_type": "code",
   "execution_count": 16,
   "id": "f02121e1-60fd-401a-bab4-565035ac3606",
   "metadata": {},
   "outputs": [
    {
     "data": {
      "text/plain": [
       "array([-4.22446579e-01, -2.24856094e-01, -3.24058473e-01, -2.84758508e-01,\n",
       "        7.25637982e-03,  1.01186477e-01,  1.03716679e-01, -1.89983442e-01,\n",
       "       -2.80597862e-02,  2.71588922e-01, -1.15337484e-01,  1.14666171e-01,\n",
       "       -8.49585980e-02,  3.32365513e-01,  5.52722663e-02, -2.22195774e-01,\n",
       "       -1.42540708e-01,  1.02519087e-01, -1.52333796e-01, -2.02912658e-01,\n",
       "        1.98424123e-02,  8.38147700e-02, -5.68632305e-01,  2.32842825e-02,\n",
       "       -1.67292669e-01, -2.39256859e-01, -8.05463567e-02,  2.57082582e-02,\n",
       "       -8.15465227e-02, -7.39290714e-02, -2.61549950e-01,  1.92575473e-02,\n",
       "        3.22909385e-01,  1.90357044e-01, -9.34726413e-05, -2.13165492e-01,\n",
       "        2.88941171e-02, -1.79531835e-02, -5.92757724e-02,  1.99918330e-01,\n",
       "       -4.75172400e-02,  1.71634063e-01, -2.45916881e-02, -9.38061625e-02,\n",
       "       -3.57002705e-01,  1.33263960e-01,  1.94045797e-01, -1.18530668e-01,\n",
       "        4.56915230e-01,  1.47728100e-01,  3.35945100e-01, -1.86959475e-01,\n",
       "        2.45955020e-01, -1.07774369e-01, -1.80859640e-01,  1.18171930e-01,\n",
       "        7.27292746e-02,  2.78034091e-01,  4.16388631e-01, -1.66037902e-01,\n",
       "       -1.28587335e-01,  3.40980232e-01, -5.31821586e-02,  2.86048222e-02,\n",
       "        2.70212591e-01,  1.59813426e-02,  5.30229211e-01, -4.24392015e-01,\n",
       "        4.41504940e-02,  1.12921521e-01,  5.93987584e-01,  1.31700858e-01,\n",
       "        7.96377473e-03, -9.32239369e-03,  2.07376778e-01,  9.57206562e-02,\n",
       "       -1.83127910e-01,  1.22415826e-01, -2.01750457e-01,  3.12428802e-01,\n",
       "       -5.54992855e-02, -2.87764937e-01, -1.73390687e-01,  1.55471236e-01,\n",
       "        1.19514363e-02,  3.49037230e-01, -8.38189423e-02, -1.50645345e-01,\n",
       "        5.33229411e-02, -1.06787957e-01,  1.13244675e-01,  3.14916372e-01,\n",
       "       -2.95596174e-03,  4.66762662e-01, -1.56012833e-01, -3.61533612e-01,\n",
       "        3.31572667e-02,  2.06269011e-01, -1.06713705e-01, -5.01035564e-02,\n",
       "        1.83970079e-01, -1.39952349e-02,  2.16501608e-01,  1.41000196e-01,\n",
       "        1.90431520e-01, -3.77753198e-01,  8.65840837e-02, -9.80312154e-02,\n",
       "        2.32716277e-01,  2.01481767e-02, -9.70339701e-02,  1.01333119e-01,\n",
       "       -1.72075018e-01, -1.49902508e-01, -2.79156715e-01,  4.38268960e-01,\n",
       "       -1.79244280e-01, -5.75872436e-02, -7.84661695e-02, -3.23518336e-01,\n",
       "       -2.88021564e-01,  1.18698426e-01,  8.74238163e-02,  2.05323607e-01,\n",
       "       -4.80111241e-02, -5.71201257e-02, -2.83933654e-02, -3.82450894e-02,\n",
       "       -2.26608127e-01, -6.20817505e-02, -8.28166008e-02,  3.57217342e-01,\n",
       "       -1.73984095e-01, -2.00290710e-01,  2.40433633e-01,  2.16891319e-01,\n",
       "       -6.78275302e-02,  1.77686185e-01, -7.99833611e-03,  2.68137515e-01,\n",
       "        1.61456391e-01,  3.94612163e-01,  8.85787010e-02,  2.40581274e-01,\n",
       "       -2.59252172e-03, -3.16258073e-01, -2.44214758e-01,  3.14837843e-01,\n",
       "       -1.19753413e-01,  2.73652300e-02, -1.63026482e-01, -1.62029583e-02,\n",
       "       -3.58391851e-02,  3.33115458e-01,  5.83249390e-01, -2.79057771e-01,\n",
       "        4.58128601e-01,  4.30684537e-01, -9.04697552e-02, -9.46646333e-02,\n",
       "       -4.69529741e-02,  1.82061568e-01,  1.93517685e-01, -5.74656464e-02,\n",
       "        5.64572923e-02,  6.01407625e-02, -2.71578670e-01,  3.31838951e-02,\n",
       "       -2.93490469e-01,  8.48192796e-02,  1.16655044e-01, -3.32132615e-02,\n",
       "       -9.28958058e-02,  8.89659524e-02,  4.50617960e-03, -1.12345040e-01,\n",
       "        2.86367029e-01, -4.58183378e-01,  2.24825799e-01, -1.59531355e-01,\n",
       "       -3.91895957e-02, -4.82418150e-01,  2.00283870e-01,  5.05795293e-02,\n",
       "       -7.37683177e-02, -2.89320741e-02,  5.19141443e-02,  2.53143817e-01,\n",
       "       -1.18403159e-01, -3.76158168e-05, -1.42480666e-03,  8.79561007e-02,\n",
       "       -1.54602423e-01,  1.39947578e-01, -1.63175136e-01, -2.27564946e-01,\n",
       "        2.43597012e-02,  1.83513522e-01,  2.09396511e-01,  6.44884957e-03,\n",
       "       -1.67489037e-01,  2.13646889e-01, -9.41733792e-02, -1.58163980e-02,\n",
       "       -8.20813626e-02, -1.83308631e-01,  2.60268390e-01, -5.81486762e-01,\n",
       "       -1.88393235e-01,  4.93148625e-01,  1.71536490e-01, -1.94944069e-01,\n",
       "       -2.98343748e-02, -1.10752210e-01,  1.75625980e-01, -2.15448886e-01,\n",
       "        3.90823573e-01, -4.05504863e-04,  1.63337767e-01, -1.30663872e-01,\n",
       "       -1.60531923e-01, -1.78250313e-01,  1.44645929e-01, -5.53424023e-02,\n",
       "       -2.84335166e-01, -2.52671033e-01, -2.86735356e-01,  7.28120282e-02,\n",
       "        1.01622723e-01,  2.40729585e-01,  2.70242840e-01, -2.02046305e-01,\n",
       "        3.18083525e-01,  2.44049594e-01, -1.42584115e-01,  8.29214305e-02,\n",
       "        4.85368222e-02,  2.96780795e-01,  4.12520230e-01, -3.14379036e-01,\n",
       "       -1.16969965e-01,  6.29207343e-02,  7.08075240e-02,  2.58253694e-01,\n",
       "       -1.14307292e-02,  4.45277393e-01,  1.21435896e-01, -1.32654205e-01,\n",
       "       -7.34766722e-02,  1.45819038e-01,  8.71955305e-02,  3.29196267e-02,\n",
       "       -1.06550403e-01,  1.32414371e-01,  5.37189618e-02,  1.55813172e-01,\n",
       "       -3.02493107e-02, -1.43763855e-01, -2.87022382e-01,  2.91071445e-01,\n",
       "        1.64530486e-01, -1.11769691e-01,  2.36826971e-01, -3.21419239e-01,\n",
       "       -1.66114554e-01, -1.28117213e-02,  3.42823148e-01, -1.29734069e-01,\n",
       "       -8.64382684e-02,  8.01279768e-02,  2.09742993e-01, -1.31370932e-01,\n",
       "       -4.56719488e-01, -2.07562372e-01,  2.11608604e-01, -1.06123060e-01,\n",
       "       -7.91287646e-02, -1.07585475e-01, -3.71915311e-01, -7.27090016e-02,\n",
       "       -1.18881240e-01, -8.83408934e-02, -1.14616305e-02, -1.38135687e-01,\n",
       "       -2.01837078e-01, -4.67055552e-02, -9.99321789e-02, -2.49767497e-01,\n",
       "        2.34003693e-01, -3.08610886e-01,  5.94543926e-02, -1.53505087e-01,\n",
       "        2.65017360e-01,  3.01953172e-03, -1.05428986e-01,  1.93159536e-01,\n",
       "        3.11240256e-01,  3.94329965e-01, -1.93251893e-02,  4.99086797e-01,\n",
       "        1.55237308e-02, -1.99357390e-01,  5.28470264e-04,  4.31942135e-01,\n",
       "        7.14859972e-03, -1.23075426e-01,  8.09205510e-03, -1.80046156e-01,\n",
       "        6.30256766e-03, -3.00481766e-02, -3.72297049e-01,  1.83589578e-01,\n",
       "        2.57175803e-01, -1.55412003e-01,  1.24235414e-01,  1.37525633e-01,\n",
       "       -1.35491326e-01,  3.29673998e-02, -9.26109552e-02, -5.65364838e-01,\n",
       "        2.80101728e-02, -2.07514837e-02, -1.69507399e-01, -2.20879644e-01,\n",
       "       -2.19279230e-01, -2.83492804e-01, -4.83236074e-01, -3.42599213e-01,\n",
       "       -9.17721614e-02,  2.96830356e-01, -5.98595431e-03,  6.14565238e-02,\n",
       "       -1.05392396e-01,  1.58028632e-01,  4.33737338e-02,  2.40767255e-01,\n",
       "       -3.02058816e-01, -2.03180701e-01,  3.31530303e-01, -3.77642363e-01,\n",
       "       -2.81263560e-01,  1.91836625e-01, -1.27187893e-01,  1.78842306e-01,\n",
       "       -2.64506698e-01,  1.23102609e-02, -1.61026597e-01,  1.34970114e-01,\n",
       "       -8.89987648e-02, -4.67514805e-02,  4.90023851e-01,  7.38463476e-02,\n",
       "       -1.30986720e-01, -3.05826902e-01, -1.67545676e-01,  1.94467619e-01,\n",
       "        1.63925141e-01,  1.95639133e-01,  2.50459850e-01, -4.28531259e-01,\n",
       "        3.45150265e-03, -2.58735806e-01,  5.29080868e-01, -3.74269754e-01,\n",
       "        1.52396336e-01, -1.04267523e-01,  5.28327487e-02,  6.97041154e-02,\n",
       "        3.10416281e-01,  1.34908646e-01, -1.46409422e-01,  8.79694298e-02,\n",
       "       -2.16057584e-01, -5.98213822e-03,  1.46351546e-01,  1.00754902e-01,\n",
       "       -3.56721997e-01,  2.37128615e-01, -2.08308682e-01, -1.37768045e-01,\n",
       "        1.87474772e-01, -1.37021899e-01,  1.79654464e-01,  9.50283781e-02,\n",
       "        3.05512756e-01, -2.35112151e-03, -5.99397533e-02,  3.43031198e-01,\n",
       "        2.22359017e-01,  3.86910558e-01, -4.61392365e-02, -5.23233533e-01,\n",
       "       -1.88939735e-01, -3.29895616e-02,  1.58315659e-01, -6.72143847e-02,\n",
       "        1.70431659e-01, -1.60779968e-01, -1.32888183e-01,  1.94981948e-01,\n",
       "       -7.49424323e-02,  1.33112848e-01, -3.46185677e-02, -3.98085825e-02,\n",
       "        1.55842915e-01,  7.61213526e-02,  6.12082146e-02,  1.30053833e-01,\n",
       "       -4.20598388e-01, -8.50357711e-02,  7.93772638e-02,  1.17576256e-01,\n",
       "        1.19343381e-02, -8.69082846e-03,  1.18011445e-01, -3.85569602e-01,\n",
       "       -1.99203819e-01,  3.17576408e-01,  6.12180717e-02, -1.49612099e-01,\n",
       "       -8.59780386e-02, -3.21716219e-02,  1.85915381e-01, -1.35080352e-01,\n",
       "        3.26779902e-01,  1.11499585e-01,  2.00124905e-01, -1.81170210e-01,\n",
       "        9.46165249e-03,  2.59242058e-01, -8.62891376e-02,  1.24217913e-01,\n",
       "       -2.26192027e-01,  1.87308326e-01, -6.76103830e-02,  1.09886482e-01,\n",
       "        7.81964809e-02,  1.59899086e-01,  4.34806384e-02,  3.77582371e-01,\n",
       "        2.00290363e-02,  3.12313199e-01,  3.17892194e-01,  3.18763070e-02,\n",
       "        1.84716865e-01,  1.02977067e-01, -1.29829776e-02, -5.33965588e-01,\n",
       "       -4.15453454e-03, -9.74933133e-02,  2.92788088e-01, -1.68570708e-02,\n",
       "       -3.65061134e-01,  2.62162834e-01, -1.99976131e-01, -1.79652348e-01,\n",
       "       -6.74350411e-02, -7.36468807e-02,  7.99704064e-03, -8.52291211e-02,\n",
       "        3.02015752e-01,  7.65381932e-01,  1.86538145e-01,  9.91607532e-02,\n",
       "       -3.15703824e-02, -2.39601448e-01,  3.49765450e-01, -3.79434258e-01,\n",
       "        4.37371433e-01, -3.03044707e-01,  3.50980572e-02, -1.36658577e-02,\n",
       "       -3.92119735e-02,  1.74251467e-01,  2.19215989e-01,  3.65045518e-02,\n",
       "        1.70673206e-01,  1.96939215e-01, -1.31071195e-01, -4.28890660e-02,\n",
       "        1.75453782e-01, -4.72446159e-02,  6.98638558e-02,  3.11691053e-02,\n",
       "        3.22514027e-01,  4.49008942e-01,  1.86777070e-01, -1.16196051e-02,\n",
       "       -1.47021413e-01, -2.00406432e-01,  7.67488629e-02, -1.27667785e-01,\n",
       "       -6.29129037e-02, -4.80403632e-01,  1.54105783e-01, -9.61351022e-02,\n",
       "       -2.31544897e-01,  3.21780965e-02, -2.23328382e-01, -9.49398521e-03,\n",
       "        1.23602547e-01, -1.67446554e-01,  2.84746200e-01,  1.42777935e-02,\n",
       "       -2.71191090e-01, -3.30283672e-01,  3.32764298e-01,  1.96248263e-01,\n",
       "       -2.55561411e-01,  1.17187075e-01,  4.77881312e-01, -4.56430614e-02,\n",
       "       -1.86917320e-01, -2.67586619e-01,  1.55057460e-01,  4.42822993e-01,\n",
       "        3.23592186e-01,  2.25058615e-01,  4.15321887e-02, -2.00825274e-01,\n",
       "        1.77915066e-01,  3.05669188e-01,  2.31600523e-01, -3.19247216e-01,\n",
       "       -1.18139088e-01,  1.34352028e-01,  2.80499279e-01, -2.21151292e-01,\n",
       "        5.30998819e-02,  1.29904166e-01,  6.53697774e-02, -1.18016200e-02,\n",
       "        6.73178434e-02,  8.00407529e-02, -5.13182700e-01, -5.82335182e-02,\n",
       "        6.54616207e-02,  2.76209235e-01, -1.83698926e-02,  2.94542551e-01,\n",
       "       -3.07798594e-01,  1.83834016e-01,  1.59031004e-01,  4.07141805e-01,\n",
       "       -1.66562483e-01, -4.79783177e-01, -2.10012928e-01, -4.13606167e-01,\n",
       "        5.92364036e-02,  1.54403850e-01,  6.58281322e-04,  2.10360914e-01,\n",
       "        2.83089519e-01,  3.63212079e-01,  1.09330811e-01, -5.22614777e-01,\n",
       "       -1.22006580e-01,  1.48910247e-02,  8.16329271e-02,  9.79118198e-02,\n",
       "       -1.71466559e-01, -1.19785972e-01,  3.07114065e-01,  2.41553903e-01,\n",
       "        1.07853182e-01, -1.99582636e-01, -3.44078898e-01, -6.04017042e-02,\n",
       "        5.21590151e-02,  3.28598283e-02, -3.27342050e-03,  1.36293635e-01,\n",
       "       -3.81063819e-02, -2.55616546e-01,  1.35476455e-01, -2.36675352e-01,\n",
       "       -4.05684769e-01,  2.38533810e-01,  4.29497473e-02,  1.72241740e-02,\n",
       "       -2.48771280e-01, -5.33274896e-02, -3.07871420e-02,  5.81809394e-02,\n",
       "       -1.23233460e-01,  2.18566433e-02,  2.29185894e-01,  9.34009105e-02,\n",
       "       -2.54486561e-01, -1.76821142e-01,  1.78003326e-01, -1.88910276e-01,\n",
       "       -2.32188582e-01,  1.38992563e-01,  8.63835216e-02,  1.66123465e-01,\n",
       "       -1.26168206e-01,  4.47001979e-02, -2.57232529e-03,  9.59319696e-02,\n",
       "        1.70473710e-01,  4.11360264e-02,  3.73511016e-01, -2.45751351e-01,\n",
       "        8.69026855e-02, -3.60793352e-01, -1.35020345e-01,  2.28721648e-01,\n",
       "        5.50210513e-02,  2.56112933e-01, -2.00419985e-02,  1.00338899e-01,\n",
       "        2.35085115e-02, -5.19269966e-02,  1.96859121e-01, -3.61586950e-04,\n",
       "        3.07785869e-01, -1.46380231e-01,  9.31807607e-02,  1.40383765e-01,\n",
       "        1.81080271e-02, -1.38114393e-01,  4.64578718e-02,  5.93972094e-02,\n",
       "        4.88919616e-02,  2.51312405e-01, -8.47728476e-02,  7.51708895e-02,\n",
       "        1.41399242e-02,  3.21199000e-01,  1.87376991e-01,  3.38847339e-01,\n",
       "        1.51104942e-01,  3.21048081e-01,  1.62717178e-01, -4.25226152e-01,\n",
       "       -3.60833764e-01,  4.96278070e-02,  1.51703119e-01, -2.27194294e-01,\n",
       "       -1.19753934e-01, -2.01473273e-02, -2.40545988e-01,  5.62721528e-02,\n",
       "        3.93154733e-02,  1.62902921e-01,  4.60220799e-02,  1.69599101e-01,\n",
       "       -1.60548031e-01, -2.60243029e-03, -9.23943594e-02, -4.32310551e-01,\n",
       "        9.29701775e-02,  3.15057188e-01,  1.51551832e-02,  4.36367691e-02,\n",
       "       -2.50602692e-01, -8.28458518e-02,  1.22859359e-01,  3.40395197e-02,\n",
       "        1.75262988e-01, -1.60563305e-01, -3.39263588e-01,  8.57212320e-02,\n",
       "        7.73878768e-02, -1.93213955e-01,  1.34666309e-01,  3.19176493e-03,\n",
       "        2.99942374e-01, -2.12176554e-02,  1.68446586e-01,  3.32506150e-01,\n",
       "       -2.90306926e-01, -2.65652929e-02,  1.57836169e-01, -1.45967916e-01,\n",
       "        1.02216721e-01, -3.66671205e-01, -1.05407014e-01,  8.61349255e-02,\n",
       "       -2.02301443e-01,  3.80774476e-02, -1.82997927e-01, -1.71337560e-01,\n",
       "       -1.67108148e-01, -4.81708020e-01, -3.76028679e-02, -2.37805650e-01,\n",
       "        1.88101381e-01, -5.88416196e-02,  5.97653806e-01,  2.54528433e-01,\n",
       "        3.43903638e-02,  3.61724347e-02, -3.01713467e-01, -3.13887089e-01,\n",
       "       -2.44421605e-02,  3.54958884e-02, -1.56709939e-01, -3.16900700e-01,\n",
       "        2.10858099e-02,  2.57124782e-01,  4.08265144e-01,  1.50322959e-01,\n",
       "       -6.00392651e-03, -1.62305892e-01,  3.02282214e-01, -2.29149386e-01,\n",
       "        1.85533479e-01,  9.38911140e-02,  4.12932485e-02, -1.50901094e-01,\n",
       "       -1.33867398e-01,  2.03006372e-01, -2.04597086e-01,  3.01504046e-01,\n",
       "        2.38587335e-01,  6.47758543e-02,  1.75633341e-01,  2.81314224e-01,\n",
       "        1.58511922e-01,  2.10825074e-03,  3.89198810e-01, -2.64083534e-01,\n",
       "       -2.38809139e-01,  2.06713527e-01,  1.16575502e-01, -1.77012771e-01,\n",
       "       -2.77637076e-02,  1.83658779e-01,  2.25406498e-01, -8.78800675e-02,\n",
       "       -1.43584520e-01,  2.10636601e-01,  1.69541359e-01, -5.84927388e-04,\n",
       "       -3.66570204e-02, -3.57495010e-01,  2.06115082e-01, -1.50764614e-01,\n",
       "       -8.18618387e-02,  3.86625342e-02,  1.66414887e-01,  1.40699828e-02,\n",
       "       -2.76515424e-01, -1.28965601e-01, -6.98808134e-02,  2.13923186e-01,\n",
       "       -2.81380713e-01, -3.66243683e-02, -1.43629208e-01,  6.90281540e-02,\n",
       "       -7.71773979e-02,  1.96927071e-01, -2.78328717e-01, -4.52037044e-02,\n",
       "       -1.19244531e-01, -3.84129286e-01,  8.88782665e-02,  4.29855466e-01,\n",
       "        2.08253324e-01, -3.37734908e-01, -2.85533458e-01,  9.70599651e-02,\n",
       "        2.04244494e-01, -6.10270798e-02, -1.66054621e-01, -2.67020404e-01],\n",
       "      dtype=float32)"
      ]
     },
     "execution_count": 16,
     "metadata": {},
     "output_type": "execute_result"
    }
   ],
   "source": [
    "answer_llm0 = df.iloc[0].answer_llm\n",
    "\n",
    "answer_llm00 = embedding_model.encode(answer_llm0)\n",
    "answer_llm00"
   ]
  },
  {
   "cell_type": "markdown",
   "id": "7287be1f-aee2-4bc3-ae42-5da7b92957be",
   "metadata": {},
   "source": [
    "# Q2"
   ]
  },
  {
   "cell_type": "code",
   "execution_count": 39,
   "id": "b5f4210e-cfd6-4004-94c3-221865c8bb96",
   "metadata": {},
   "outputs": [
    {
     "data": {
      "application/vnd.jupyter.widget-view+json": {
       "model_id": "bad582a6b8764828a105cc9ffdd5562d",
       "version_major": 2,
       "version_minor": 0
      },
      "text/plain": [
       "  0%|          | 0/300 [00:00<?, ?it/s]"
      ]
     },
     "metadata": {},
     "output_type": "display_data"
    }
   ],
   "source": [
    "from tqdm.auto import tqdm\n",
    "\n",
    "answers_dict = df.to_dict(orient='records')\n",
    "\n",
    "def cosine_similarity(record):\n",
    "    answer_llm = record['answer_llm']\n",
    "    answer_orig = record['answer_orig']\n",
    "    answer_llm_cos = embedding_model.encode(answer_llm)\n",
    "    answer_orig_cos = embedding_model.encode(answer_orig)\n",
    "\n",
    "    return answer_llm_cos.dot(answer_orig_cos)\n",
    "\n",
    "cos_evaluation_list = []\n",
    "\n",
    "for record in tqdm(answers_dict):\n",
    "    cos_sim = cosine_similarity(record)\n",
    "    cos_evaluation_list.append(cos_sim)"
   ]
  },
  {
   "cell_type": "code",
   "execution_count": 40,
   "id": "8cb97b22-d735-4e64-b498-db5b152a045e",
   "metadata": {},
   "outputs": [
    {
     "name": "stdout",
     "output_type": "stream",
     "text": [
      "75% percentile 31.674312114715576\n"
     ]
    }
   ],
   "source": [
    "import numpy as np\n",
    "\n",
    "print(\"75% percentile\", np.percentile(cos_evaluation_list, 75))"
   ]
  },
  {
   "cell_type": "markdown",
   "id": "a7929c99-164f-4b2d-bf02-a166938c3999",
   "metadata": {},
   "source": [
    "# Q3"
   ]
  },
  {
   "cell_type": "code",
   "execution_count": 41,
   "id": "2e2a91f6-a27d-40c7-b973-584a07f0fd25",
   "metadata": {},
   "outputs": [
    {
     "data": {
      "application/vnd.jupyter.widget-view+json": {
       "model_id": "0084e7f1625d4db2aaba3907b65603dd",
       "version_major": 2,
       "version_minor": 0
      },
      "text/plain": [
       "  0%|          | 0/300 [00:00<?, ?it/s]"
      ]
     },
     "metadata": {},
     "output_type": "display_data"
    }
   ],
   "source": [
    "from tqdm.auto import tqdm\n",
    "\n",
    "answers_dict = df.to_dict(orient='records')\n",
    "\n",
    "def cosine_similarity_norm(record):\n",
    "    answer_llm = record['answer_llm']\n",
    "    answer_orig = record['answer_orig']\n",
    "    answer_llm_cos = embedding_model.encode(answer_llm)\n",
    "    answer_orig_cos = embedding_model.encode(answer_orig)\n",
    "\n",
    "    answer_llm_cos_norm = np.sqrt((answer_llm_cos * answer_llm_cos).sum())\n",
    "    v_answer_llm_cos_norm = answer_llm_cos / answer_llm_cos_norm\n",
    "\n",
    "    answer_orig_cos_norm = np.sqrt((answer_orig_cos * answer_orig_cos).sum())\n",
    "    v_answer_orig_cos_norm = answer_orig_cos / answer_orig_cos_norm\n",
    "\n",
    "    return v_answer_llm_cos_norm.dot(v_answer_orig_cos_norm)\n",
    "\n",
    "cos_evaluation_list_normalised = []\n",
    "\n",
    "for record in tqdm(answers_dict):\n",
    "    cos_sim_norm = cosine_similarity_norm(record)\n",
    "    cos_evaluation_list_normalised.append(cos_sim_norm)"
   ]
  },
  {
   "cell_type": "code",
   "execution_count": 42,
   "id": "57bfc578-2404-4348-aa83-9162d2c1321c",
   "metadata": {},
   "outputs": [
    {
     "name": "stdout",
     "output_type": "stream",
     "text": [
      "75% percentile on normalised vectors 0.8362347930669785\n"
     ]
    }
   ],
   "source": [
    "import numpy as np\n",
    "\n",
    "print(\"75% percentile on normalised vectors\", np.percentile(cos_evaluation_list_normalised, 75))"
   ]
  },
  {
   "cell_type": "markdown",
   "id": "c6a8a65f-20ce-483a-bb42-f7664eb6125d",
   "metadata": {},
   "source": [
    "# Q4"
   ]
  },
  {
   "cell_type": "code",
   "execution_count": 43,
   "id": "bc6e26fd-9665-4a1b-9364-8e03ebeb174a",
   "metadata": {},
   "outputs": [],
   "source": [
    "from rouge import Rouge"
   ]
  },
  {
   "cell_type": "code",
   "execution_count": 46,
   "id": "7bb8c553-e319-4a9b-b5b5-106991bec6e0",
   "metadata": {},
   "outputs": [],
   "source": [
    "rouge_scorer = Rouge()\n",
    "\n",
    "r = answers_dict[10]\n",
    "scores = rouge_scorer.get_scores(r['answer_llm'], r['answer_orig'])[0]"
   ]
  },
  {
   "cell_type": "code",
   "execution_count": 47,
   "id": "b90c5d42-2e03-41a6-ab4c-cec48c569ab2",
   "metadata": {},
   "outputs": [
    {
     "data": {
      "text/plain": [
       "{'rouge-1': {'r': 0.45454545454545453,\n",
       "  'p': 0.45454545454545453,\n",
       "  'f': 0.45454544954545456},\n",
       " 'rouge-2': {'r': 0.21621621621621623,\n",
       "  'p': 0.21621621621621623,\n",
       "  'f': 0.21621621121621637},\n",
       " 'rouge-l': {'r': 0.3939393939393939,\n",
       "  'p': 0.3939393939393939,\n",
       "  'f': 0.393939388939394}}"
      ]
     },
     "execution_count": 47,
     "metadata": {},
     "output_type": "execute_result"
    }
   ],
   "source": [
    "scores"
   ]
  },
  {
   "cell_type": "markdown",
   "id": "20303c92-fa6c-43aa-a39f-9b912b27cc34",
   "metadata": {},
   "source": [
    "# Q5"
   ]
  },
  {
   "cell_type": "code",
   "execution_count": 62,
   "id": "46226da0-ea14-4991-b6c3-afb893e623c0",
   "metadata": {},
   "outputs": [
    {
     "name": "stdout",
     "output_type": "stream",
     "text": [
      "10th records avg f1 score using Rouge:  0.35490034990035496\n"
     ]
    }
   ],
   "source": [
    "f_scores = []\n",
    "\n",
    "for score in scores.values():\n",
    "    f_scores.append(score['f'])\n",
    "\n",
    "print(\"10th records avg f1 score using Rouge: \",np.average(f_scores))"
   ]
  },
  {
   "cell_type": "markdown",
   "id": "6c9bede4-6bbb-4b64-a9d8-704a7c0a6801",
   "metadata": {},
   "source": [
    "# Q6"
   ]
  },
  {
   "cell_type": "code",
   "execution_count": 75,
   "id": "b16aefc5-0a45-418d-b035-9495f76a17b0",
   "metadata": {},
   "outputs": [
    {
     "data": {
      "application/vnd.jupyter.widget-view+json": {
       "model_id": "d31cb5a8ce1f4a6d8f0b2cf4817792ff",
       "version_major": 2,
       "version_minor": 0
      },
      "text/plain": [
       "  0%|          | 0/300 [00:00<?, ?it/s]"
      ]
     },
     "metadata": {},
     "output_type": "display_data"
    }
   ],
   "source": [
    "f1_score_list = []\n",
    "\n",
    "for record in tqdm(answers_dict):\n",
    "    scores = rouge_scorer.get_scores(record['answer_llm'], record['answer_orig'])[0]\n",
    "    f1_score_list.append(scores['rouge-2']['f'])"
   ]
  },
  {
   "cell_type": "code",
   "execution_count": 76,
   "id": "66f5707c-f036-4e7b-b614-401de4b48313",
   "metadata": {},
   "outputs": [
    {
     "data": {
      "text/plain": [
       "answer_llm     Yes, all sessions are recorded, so if you miss...\n",
       "answer_orig    Everything is recorded, so you won’t miss anyt...\n",
       "document                                                5170565b\n",
       "question                    Are sessions recorded if I miss one?\n",
       "course                                 machine-learning-zoomcamp\n",
       "f1_score                                                0.216216\n",
       "Name: 10, dtype: object"
      ]
     },
     "execution_count": 76,
     "metadata": {},
     "output_type": "execute_result"
    }
   ],
   "source": [
    "df[\"f1_score\"] = f1_score_list\n",
    "df.iloc[10]"
   ]
  },
  {
   "cell_type": "code",
   "execution_count": 77,
   "id": "dcba474f-59d5-416c-821d-18fc55db6e33",
   "metadata": {},
   "outputs": [
    {
     "data": {
      "text/plain": [
       "count    300.000000\n",
       "mean       0.206965\n",
       "std        0.153550\n",
       "min        0.000000\n",
       "25%        0.097809\n",
       "50%        0.178671\n",
       "75%        0.286181\n",
       "max        0.739130\n",
       "Name: f1_score, dtype: float64"
      ]
     },
     "execution_count": 77,
     "metadata": {},
     "output_type": "execute_result"
    }
   ],
   "source": [
    "df['f1_score'].describe()"
   ]
  }
 ],
 "metadata": {
  "kernelspec": {
   "display_name": "Python 3.11.5",
   "language": "python",
   "name": "py311"
  },
  "language_info": {
   "codemirror_mode": {
    "name": "ipython",
    "version": 3
   },
   "file_extension": ".py",
   "mimetype": "text/x-python",
   "name": "python",
   "nbconvert_exporter": "python",
   "pygments_lexer": "ipython3",
   "version": "3.11.5"
  }
 },
 "nbformat": 4,
 "nbformat_minor": 5
}
