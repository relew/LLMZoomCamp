{
 "cells": [
  {
   "cell_type": "markdown",
   "id": "043fb5fb-4b05-4026-a7d9-d3e5551741a4",
   "metadata": {},
   "source": [
    "# Q&A json"
   ]
  },
  {
   "cell_type": "code",
   "execution_count": 2,
   "id": "e6d43546-896f-43b6-bf44-4ac0ff896a84",
   "metadata": {},
   "outputs": [],
   "source": [
    "import json\n",
    "from elasticsearch import Elasticsearch\n",
    "from tqdm import tqdm\n",
    "from openai import OpenAI\n",
    "import os,sys"
   ]
  },
  {
   "cell_type": "code",
   "execution_count": 76,
   "id": "046e9fcb-d1ae-4483-94c8-11b2478dd7aa",
   "metadata": {},
   "outputs": [],
   "source": [
    "import requests \n",
    "\n",
    "docs_url = 'https://github.com/DataTalksClub/llm-zoomcamp/blob/main/01-intro/documents.json?raw=1'\n",
    "docs_response = requests.get(docs_url)\n",
    "documents_raw = docs_response.json()\n",
    "\n",
    "documents = []\n",
    "\n",
    "for course in documents_raw:\n",
    "    course_name = course['course']\n",
    "\n",
    "    for doc in course['documents']:\n",
    "        doc['course'] = course_name\n",
    "        documents.append(doc)\n",
    "\n",
    "# add manual dog breed related informations\n",
    "# Function to load JSON file\n",
    "def load_json(file_path):\n",
    "    with open(file_path, 'r', encoding='utf-8') as f:\n",
    "        data = json.load(f)\n",
    "    return data\n",
    "\n",
    "# Load the JSON file\n",
    "questions_data = load_json(\"dog_json.json\")\n",
    "for docx in questions_data:\n",
    "    documents.append(docx)"
   ]
  },
  {
   "cell_type": "code",
   "execution_count": 79,
   "id": "605f2ca9-41df-4a15-8158-46856ae07496",
   "metadata": {},
   "outputs": [],
   "source": [
    "es = Elasticsearch(\"http://localhost:9200\")\n",
    "#create index schema\n",
    "\n",
    "index_settings = {\n",
    "    \"settings\": {\n",
    "        \"number_of_shards\": 1,\n",
    "        \"number_of_replicas\": 0\n",
    "    },\n",
    "    \"mappings\": {\n",
    "        \"properties\": {\n",
    "            \"text\": {\"type\": \"text\"},\n",
    "            \"section\": {\"type\": \"text\"},\n",
    "            \"question\": {\"type\": \"text\"},\n",
    "            \"course\": {\"type\": \"keyword\"} \n",
    "        }\n",
    "    }\n",
    "}\n",
    "\n",
    "#initialise indice\n",
    "# This Elasticsearch Python client method creates an index with the specified settings\n",
    "index_name = \"streamlit_w_dogs\"\n",
    "response = es.indices.create(index=index_name, body=index_settings)"
   ]
  },
  {
   "cell_type": "code",
   "execution_count": 80,
   "id": "f91ad30f-3cca-4ec0-970b-b27503c69764",
   "metadata": {},
   "outputs": [
    {
     "name": "stderr",
     "output_type": "stream",
     "text": [
      "100%|███████████████████████████████████████████████████████████████████████| 953/953 [00:07<00:00, 129.68it/s]\n"
     ]
    }
   ],
   "source": [
    "# load Q&A dictionary into the indice\n",
    "for doc in tqdm(documents):\n",
    "    es.index(index=index_name, document=doc)"
   ]
  },
  {
   "cell_type": "code",
   "execution_count": 81,
   "id": "1d3fff71-10fb-485c-beb8-617215f7dfbd",
   "metadata": {},
   "outputs": [],
   "source": [
    "def check_similarities(user_question, index_name = \"llm-course-questions\" , max_results = 5):\n",
    "    search_query = {\n",
    "        \"size\": max_results,\n",
    "        \"query\": {\n",
    "            \"bool\": {\n",
    "                \"must\": {\n",
    "                    \"multi_match\": {\n",
    "                        \"query\": user_question,\n",
    "                        \"fields\": [\"question^3\", \"text\", \"section\"],\n",
    "                        \"type\": \"best_fields\"\n",
    "                    }\n",
    "                },\n",
    "                \"filter\": {\n",
    "                    \"term\": {\n",
    "                        \"course\": \"llm-course-questions\"\n",
    "                    }\n",
    "                }\n",
    "            }\n",
    "        }\n",
    "    }\n",
    "\n",
    "    response = es.search(index=index_name, body=search_query)\n",
    "    documents = [hit[\"_source\"] for hit in response['hits']['hits']]\n",
    "    return documents\n",
    "    \n",
    "def build_prompt(query, search_results):\n",
    "    prompt_template = \"\"\"\n",
    "You're a course teaching assistant. Answer the QUESTION based on the CONTEXT from the FAQ database.\n",
    "Use only the facts from the CONTEXT when answering the QUESTION.\n",
    "\n",
    "QUESTION: {question}\n",
    "\n",
    "CONTEXT: \n",
    "{context}\n",
    "\"\"\".strip()\n",
    "\n",
    "    context = \"\"\n",
    "    \n",
    "    for doc in search_results:\n",
    "        context = context + f\"section: {doc['section']}\\nquestion: {doc['question']}\\nanswer: {doc['text']}\\n\\n\"\n",
    "    \n",
    "    prompt = prompt_template.format(question=query, context=context).strip()\n",
    "    return prompt\n",
    "\n",
    "def llm(prompt):\n",
    "    response = client.chat.completions.create(\n",
    "        model='phi3',\n",
    "        messages=[{\"role\": \"user\", \"content\": prompt}]\n",
    "    )\n",
    "    \n",
    "    return response.choices[0].message.content\n",
    "\n",
    "def rag(query,index_name):\n",
    "    search_results = check_similarities(query,index_name)\n",
    "    prompt = build_prompt(query, search_results)\n",
    "    answer = llm(prompt)\n",
    "    return answer"
   ]
  },
  {
   "cell_type": "code",
   "execution_count": 83,
   "id": "5bf95ddc-b955-4621-b340-15d64ab92bf8",
   "metadata": {},
   "outputs": [
    {
     "data": {
      "text/plain": [
       "\" I'm sorry, but based on the provided context, it doesn't specifically answer your question about being gay. However, please note that sexual orientation is not a choice and everyone has their own unique identity. For more information regarding this topic, you may need to consult with a professional or relevant authority in human sciences.\""
      ]
     },
     "execution_count": 83,
     "metadata": {},
     "output_type": "execute_result"
    }
   ],
   "source": [
    "client = OpenAI(\n",
    "    base_url='http://localhost:11434/v1/',\n",
    "    api_key='ollama',\n",
    ")\n",
    "\n",
    "rag(\"can i be gay?\",\"streamlit_w_dogs\")"
   ]
  },
  {
   "cell_type": "code",
   "execution_count": 84,
   "id": "f92aedc1-73d4-4d97-acdc-abdd526fb66f",
   "metadata": {},
   "outputs": [
    {
     "data": {
      "text/plain": [
       "' The Prague Shepherds might be the best suited dog for the Czech weather which can be unforgiving.\\n\\n(Note: There is no detailed information provided on what specifically defines a Prague Shepherd, but based on the given CONTEXT, it suggests that they are suitable for the Czech climate.)'"
      ]
     },
     "execution_count": 84,
     "metadata": {},
     "output_type": "execute_result"
    }
   ],
   "source": [
    "rag(\"what is a prague shepherd\",\"streamlit_w_dogs\")"
   ]
  },
  {
   "cell_type": "code",
   "execution_count": 85,
   "id": "b8c5198b-1e00-43ad-9f47-abf93cb78a5e",
   "metadata": {},
   "outputs": [
    {
     "data": {
      "text/plain": [
       "' I\\'m sorry, but there is no information available in the provided context about \"a Prague Shepherd.\" However, if you are referring to a breed of dog or something related to Prague, please provide more details so that I can assist you better. If you have any specific questions regarding dogs from the Czech Republic or anything associated with Prague, feel free to ask!'"
      ]
     },
     "execution_count": 85,
     "metadata": {},
     "output_type": "execute_result"
    }
   ],
   "source": [
    "rag(\"what is a prague shepherd\",\"llm-course-questions\")"
   ]
  }
 ],
 "metadata": {
  "kernelspec": {
   "display_name": "devenv",
   "language": "python",
   "name": "devenv"
  },
  "language_info": {
   "codemirror_mode": {
    "name": "ipython",
    "version": 3
   },
   "file_extension": ".py",
   "mimetype": "text/x-python",
   "name": "python",
   "nbconvert_exporter": "python",
   "pygments_lexer": "ipython3",
   "version": "3.11.5"
  }
 },
 "nbformat": 4,
 "nbformat_minor": 5
}
